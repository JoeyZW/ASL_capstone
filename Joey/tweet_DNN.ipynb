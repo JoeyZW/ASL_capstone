{
 "cells": [
  {
   "cell_type": "code",
   "execution_count": 1,
   "id": "4afba91a-a380-4937-b962-105c3e9664f1",
   "metadata": {},
   "outputs": [
    {
     "name": "stderr",
     "output_type": "stream",
     "text": [
      "2023-02-09 16:38:07.615556: I tensorflow/core/platform/cpu_feature_guard.cc:193] This TensorFlow binary is optimized with oneAPI Deep Neural Network Library (oneDNN) to use the following CPU instructions in performance-critical operations:  AVX2 FMA\n",
      "To enable them in other operations, rebuild TensorFlow with the appropriate compiler flags.\n",
      "2023-02-09 16:38:08.480535: W tensorflow/compiler/xla/stream_executor/platform/default/dso_loader.cc:64] Could not load dynamic library 'libnvinfer.so.7'; dlerror: libnvinfer.so.7: cannot open shared object file: No such file or directory; LD_LIBRARY_PATH: /usr/local/cuda/lib64:/usr/local/nccl2/lib:/usr/local/cuda/extras/CUPTI/lib64\n",
      "2023-02-09 16:38:08.480642: W tensorflow/compiler/xla/stream_executor/platform/default/dso_loader.cc:64] Could not load dynamic library 'libnvinfer_plugin.so.7'; dlerror: libnvinfer_plugin.so.7: cannot open shared object file: No such file or directory; LD_LIBRARY_PATH: /usr/local/cuda/lib64:/usr/local/nccl2/lib:/usr/local/cuda/extras/CUPTI/lib64\n",
      "2023-02-09 16:38:08.480654: W tensorflow/compiler/tf2tensorrt/utils/py_utils.cc:38] TF-TRT Warning: Cannot dlopen some TensorRT libraries. If you would like to use Nvidia GPU with TensorRT, please make sure the missing libraries mentioned above are installed properly.\n"
     ]
    },
    {
     "name": "stdout",
     "output_type": "stream",
     "text": [
      "2.11.0\n"
     ]
    }
   ],
   "source": [
    "import os\n",
    "import shutil\n",
    "\n",
    "import pandas as pd\n",
    "import tensorflow as tf\n",
    "import numpy as np\n",
    "import keras\n",
    "from keras import Input\n",
    "from keras.layers import TextVectorization\n",
    "from tensorflow.keras.callbacks import EarlyStopping, TensorBoard\n",
    "from tensorflow.keras.layers import (\n",
    "    GRU,\n",
    "    Conv1D,\n",
    "    Dense,\n",
    "    Embedding,\n",
    "    Flatten,\n",
    "    Lambda,\n",
    ")\n",
    "from tensorflow.keras.models import Sequential\n",
    "from tensorflow.keras.utils import to_categorical\n",
    "\n",
    "print(tf.__version__)"
   ]
  },
  {
   "cell_type": "code",
   "execution_count": 2,
   "id": "c1f383da-c848-4ee5-93f2-01975134b723",
   "metadata": {},
   "outputs": [],
   "source": [
    "#read data\n",
    "data = pd.read_csv(\"./data/train.csv\")\n",
    "#shuffle data\n",
    "data = data.sample(frac=1)\n",
    "\n",
    "#print data\n",
    "#data.head(10)\n",
    "#data[\"keyword\"].unique()"
   ]
  },
  {
   "cell_type": "code",
   "execution_count": 3,
   "id": "1d57dfb8-6507-4727-b555-33d812ee8583",
   "metadata": {},
   "outputs": [
    {
     "data": {
      "text/plain": [
       "array([1., 0.], dtype=float32)"
      ]
     },
     "execution_count": 3,
     "metadata": {},
     "output_type": "execute_result"
    }
   ],
   "source": [
    "#one hot encode target\n",
    "classes = [[0,1][source] for source in data.target]\n",
    "target = to_categorical(classes)\n",
    "#print target\n",
    "target[10]"
   ]
  },
  {
   "cell_type": "code",
   "execution_count": 4,
   "id": "55656c08-3030-4a56-b36d-acaa247901a2",
   "metadata": {},
   "outputs": [
    {
     "name": "stderr",
     "output_type": "stream",
     "text": [
      "2023-02-09 16:38:09.242012: I tensorflow/compiler/xla/stream_executor/cuda/cuda_gpu_executor.cc:981] successful NUMA node read from SysFS had negative value (-1), but there must be at least one NUMA node, so returning NUMA node zero\n",
      "2023-02-09 16:38:09.254370: I tensorflow/compiler/xla/stream_executor/cuda/cuda_gpu_executor.cc:981] successful NUMA node read from SysFS had negative value (-1), but there must be at least one NUMA node, so returning NUMA node zero\n",
      "2023-02-09 16:38:09.256170: I tensorflow/compiler/xla/stream_executor/cuda/cuda_gpu_executor.cc:981] successful NUMA node read from SysFS had negative value (-1), but there must be at least one NUMA node, so returning NUMA node zero\n",
      "2023-02-09 16:38:09.258361: I tensorflow/core/platform/cpu_feature_guard.cc:193] This TensorFlow binary is optimized with oneAPI Deep Neural Network Library (oneDNN) to use the following CPU instructions in performance-critical operations:  AVX2 FMA\n",
      "To enable them in other operations, rebuild TensorFlow with the appropriate compiler flags.\n",
      "2023-02-09 16:38:09.258825: I tensorflow/compiler/xla/stream_executor/cuda/cuda_gpu_executor.cc:981] successful NUMA node read from SysFS had negative value (-1), but there must be at least one NUMA node, so returning NUMA node zero\n",
      "2023-02-09 16:38:09.260546: I tensorflow/compiler/xla/stream_executor/cuda/cuda_gpu_executor.cc:981] successful NUMA node read from SysFS had negative value (-1), but there must be at least one NUMA node, so returning NUMA node zero\n",
      "2023-02-09 16:38:09.262351: I tensorflow/compiler/xla/stream_executor/cuda/cuda_gpu_executor.cc:981] successful NUMA node read from SysFS had negative value (-1), but there must be at least one NUMA node, so returning NUMA node zero\n",
      "2023-02-09 16:38:10.066248: I tensorflow/compiler/xla/stream_executor/cuda/cuda_gpu_executor.cc:981] successful NUMA node read from SysFS had negative value (-1), but there must be at least one NUMA node, so returning NUMA node zero\n",
      "2023-02-09 16:38:10.068405: I tensorflow/compiler/xla/stream_executor/cuda/cuda_gpu_executor.cc:981] successful NUMA node read from SysFS had negative value (-1), but there must be at least one NUMA node, so returning NUMA node zero\n",
      "2023-02-09 16:38:10.070181: I tensorflow/compiler/xla/stream_executor/cuda/cuda_gpu_executor.cc:981] successful NUMA node read from SysFS had negative value (-1), but there must be at least one NUMA node, so returning NUMA node zero\n",
      "2023-02-09 16:38:10.072066: I tensorflow/core/common_runtime/gpu/gpu_device.cc:1613] Created device /job:localhost/replica:0/task:0/device:GPU:0 with 330 MB memory:  -> device: 0, name: Tesla T4, pci bus id: 0000:00:04.0, compute capability: 7.5\n"
     ]
    }
   ],
   "source": [
    "MAX_LEN = 22\n",
    "MAX_TOKENS = 100000\n",
    "\n",
    "preprocessing_layer = TextVectorization(\n",
    "    output_sequence_length=MAX_LEN, \n",
    "    max_tokens=MAX_TOKENS\n",
    "    #, vocabulary = np.array([\"Our\",\"are\", \"in\"])\n",
    ")"
   ]
  },
  {
   "cell_type": "code",
   "execution_count": 5,
   "id": "646cb946-9c08-4594-8613-da7460f75a80",
   "metadata": {},
   "outputs": [],
   "source": [
    "preprocessing_layer.adapt(data.text)\n"
   ]
  },
  {
   "cell_type": "code",
   "execution_count": 6,
   "id": "e8a1c1c0-6b75-451c-a351-834da399c03c",
   "metadata": {},
   "outputs": [
    {
     "data": {
      "text/plain": [
       "<tf.Tensor: shape=(10, 22), dtype=int64, numpy=\n",
       "array([[ 3095,   248,   447,  2035,     4,   926, 10214,  1435,    10,\n",
       "          160, 14380,     0,     0,     0,     0,     0,     0,     0,\n",
       "            0,     0,     0,     0],\n",
       "       [ 4542,    83,   556,  3916,     0,     0,     0,     0,     0,\n",
       "            0,     0,     0,     0,     0,     0,     0,     0,     0,\n",
       "            0,     0,     0,     0],\n",
       "       [ 2380,     8,    71,   218,     2,   337, 18435,    28,    10,\n",
       "            3,   614,     4,  3542,   999,    15,    11,   406, 19860,\n",
       "         1353,     0,     0,     0],\n",
       "       [11301,  1645,     8,  1024,   203,   111,     6,     2,  2291,\n",
       "           72,   456,   589,  2305,     9,  1442,    18,     2,   842,\n",
       "           33,    16,    59,   210],\n",
       "       [ 3311,   994, 19571,  1785,     5,   181,   594,     4,   616,\n",
       "          384, 14773, 18173, 11034,     0,     0,     0,     0,     0,\n",
       "            0,     0,     0,     0],\n",
       "       [ 2915,     9,    34,  3818,    33,   331,     9,    34,   181,\n",
       "            0,     0,     0,     0,     0,     0,     0,     0,     0,\n",
       "            0,     0,     0,     0],\n",
       "       [  752,   265,    53,   310,   775,   326,     4,   954, 16061,\n",
       "            0,     0,     0,     0,     0,     0,     0,     0,     0,\n",
       "            0,     0,     0,     0],\n",
       "       [  591, 19099,   518,     2,   315,     9, 11149,     0,     0,\n",
       "            0,     0,     0,     0,     0,     0,     0,     0,     0,\n",
       "            0,     0,     0,     0],\n",
       "       [12063,   875,     6, 17906,   780,   751,   813,   339, 19683,\n",
       "         1246, 12928, 14414, 20826,     0,     0,     0,     0,     0,\n",
       "            0,     0,     0,     0],\n",
       "       [ 1989,     5, 21114,     7,  7825,    11,     2,  3423,  6545,\n",
       "          149,    17,  1359,   350,  2166,    27,    90,     8,   108,\n",
       "        21366,  2386,  1364,  6109]])>"
      ]
     },
     "execution_count": 6,
     "metadata": {},
     "output_type": "execute_result"
    }
   ],
   "source": [
    "preprocessing_layer(data.text[:10])"
   ]
  },
  {
   "cell_type": "code",
   "execution_count": 7,
   "id": "70c2ff81-53be-44c5-9f6a-163184769d8b",
   "metadata": {},
   "outputs": [
    {
     "data": {
      "text/plain": [
       "22699"
      ]
     },
     "execution_count": 7,
     "metadata": {},
     "output_type": "execute_result"
    }
   ],
   "source": [
    "VOCAB_SIZE = len(preprocessing_layer.get_vocabulary())\n",
    "VOCAB_SIZE"
   ]
  },
  {
   "cell_type": "code",
   "execution_count": 8,
   "id": "7253e318-71fb-4873-97d0-be6bc658d974",
   "metadata": {},
   "outputs": [
    {
     "name": "stdout",
     "output_type": "stream",
     "text": [
      "Model: \"modeltest\"\n",
      "_________________________________________________________________\n",
      " Layer (type)                Output Shape              Param #   \n",
      "=================================================================\n",
      " input_1 (InputLayer)        [(None, 1)]               0         \n",
      "                                                                 \n",
      " text_vectorization (TextVec  (None, 22)               0         \n",
      " torization)                                                     \n",
      "                                                                 \n",
      " embedding (Embedding)       (None, 22, 5)             113500    \n",
      "                                                                 \n",
      " lambda (Lambda)             (None, 5)                 0         \n",
      "                                                                 \n",
      " dense (Dense)               (None, 2)                 12        \n",
      "                                                                 \n",
      "=================================================================\n",
      "Total params: 113,512\n",
      "Trainable params: 113,512\n",
      "Non-trainable params: 0\n",
      "_________________________________________________________________\n"
     ]
    }
   ],
   "source": [
    "inputs = Input(shape=(1,),dtype=tf.string)\n",
    "x = preprocessing_layer(inputs)\n",
    "x = Embedding(VOCAB_SIZE+1,5,input_shape=[22],mask_zero=True)(x)\n",
    "# x= GRU(8)(x)\n",
    "x = Lambda(lambda x:tf.reduce_mean(x,axis=1))(x)\n",
    "# x = Dense\n",
    "outputs = Dense(2,activation=\"softmax\")(x)\n",
    "\n",
    "model = keras.Model(inputs=inputs,outputs=outputs,name=\"modeltest\")\n",
    "model.summary()\n",
    "model.compile(optimizer=tf.keras.optimizers.Adam(learning_rate=1e-3), loss=\"categorical_crossentropy\",metrics=[\"Accuracy\"])"
   ]
  },
  {
   "cell_type": "code",
   "execution_count": 9,
   "id": "95bf04c7-78a1-4c9a-b9ca-da485377df01",
   "metadata": {},
   "outputs": [],
   "source": [
    "# model = Sequential([\n",
    "#     Input(shape=(1,),dtype=tf.string),\n",
    "#     preprocessing_layer,\n",
    "#     Embedding(\n",
    "#             VOCAB_SIZE+1, 5, input_shape=[22], mask_zero=True\n",
    "#     ),\n",
    "#     #Lambda(lambda x:tf.reduce_mean(x,axis=1)),\n",
    "#     GRU(8),\n",
    "#     Dense(2,activation=\"softmax\")\n",
    "# ])\n",
    "# model.compile(optimizer=tf.keras.optimizers.Adam(learning_rate=1e-3), loss=\"categorical_crossentropy\",metrics=[\"Accuracy\"])"
   ]
  },
  {
   "cell_type": "code",
   "execution_count": 10,
   "id": "5bd7c681-8d07-42dc-820a-7e58c7f878c0",
   "metadata": {},
   "outputs": [
    {
     "name": "stdout",
     "output_type": "stream",
     "text": [
      "Epoch 1/50\n"
     ]
    },
    {
     "name": "stderr",
     "output_type": "stream",
     "text": [
      "2023-02-09 16:38:12.115964: I tensorflow/compiler/xla/service/service.cc:173] XLA service 0x55ae2d493df0 initialized for platform CUDA (this does not guarantee that XLA will be used). Devices:\n",
      "2023-02-09 16:38:12.116011: I tensorflow/compiler/xla/service/service.cc:181]   StreamExecutor device (0): Tesla T4, Compute Capability 7.5\n",
      "2023-02-09 16:38:12.121833: I tensorflow/compiler/mlir/tensorflow/utils/dump_mlir_util.cc:268] disabling MLIR crash reproducer, set env var `MLIR_CRASH_REPRODUCER_DIRECTORY` to enable.\n",
      "2023-02-09 16:38:12.264167: I tensorflow/compiler/jit/xla_compilation_cache.cc:477] Compiled cluster using XLA!  This line is logged at most once for the lifetime of the process.\n"
     ]
    },
    {
     "name": "stdout",
     "output_type": "stream",
     "text": [
      "96/96 [==============================] - 12s 109ms/step - loss: 0.6825 - Accuracy: 0.5575 - val_loss: 0.6661 - val_Accuracy: 0.5950\n",
      "Epoch 2/50\n",
      "96/96 [==============================] - 4s 38ms/step - loss: 0.6544 - Accuracy: 0.5900 - val_loss: 0.6434 - val_Accuracy: 0.6342\n",
      "Epoch 3/50\n",
      "96/96 [==============================] - 3s 31ms/step - loss: 0.6225 - Accuracy: 0.6619 - val_loss: 0.6186 - val_Accuracy: 0.6767\n",
      "Epoch 4/50\n",
      "96/96 [==============================] - 2s 20ms/step - loss: 0.5850 - Accuracy: 0.7267 - val_loss: 0.5929 - val_Accuracy: 0.7417\n",
      "Epoch 5/50\n",
      "96/96 [==============================] - 1s 9ms/step - loss: 0.5448 - Accuracy: 0.7948 - val_loss: 0.5672 - val_Accuracy: 0.7608\n",
      "Epoch 6/50\n",
      "96/96 [==============================] - 1s 9ms/step - loss: 0.5053 - Accuracy: 0.8179 - val_loss: 0.5450 - val_Accuracy: 0.7850\n",
      "Epoch 7/50\n",
      "96/96 [==============================] - 1s 13ms/step - loss: 0.4687 - Accuracy: 0.8448 - val_loss: 0.5257 - val_Accuracy: 0.7875\n",
      "Epoch 8/50\n",
      "96/96 [==============================] - 1s 7ms/step - loss: 0.4355 - Accuracy: 0.8587 - val_loss: 0.5099 - val_Accuracy: 0.7917\n",
      "Epoch 9/50\n",
      "96/96 [==============================] - 1s 9ms/step - loss: 0.4060 - Accuracy: 0.8725 - val_loss: 0.4975 - val_Accuracy: 0.7942\n",
      "Epoch 10/50\n",
      "96/96 [==============================] - 1s 6ms/step - loss: 0.3793 - Accuracy: 0.8800 - val_loss: 0.4891 - val_Accuracy: 0.7950\n",
      "Epoch 11/50\n",
      "96/96 [==============================] - 1s 6ms/step - loss: 0.3550 - Accuracy: 0.8925 - val_loss: 0.4793 - val_Accuracy: 0.7983\n",
      "Epoch 12/50\n",
      "96/96 [==============================] - 1s 6ms/step - loss: 0.3332 - Accuracy: 0.8963 - val_loss: 0.4734 - val_Accuracy: 0.8000\n",
      "Epoch 13/50\n",
      "96/96 [==============================] - 1s 6ms/step - loss: 0.3131 - Accuracy: 0.9038 - val_loss: 0.4681 - val_Accuracy: 0.7992\n",
      "Epoch 14/50\n",
      "96/96 [==============================] - 1s 5ms/step - loss: 0.2946 - Accuracy: 0.9090 - val_loss: 0.4650 - val_Accuracy: 0.8017\n",
      "Epoch 15/50\n",
      "96/96 [==============================] - 1s 5ms/step - loss: 0.2776 - Accuracy: 0.9167 - val_loss: 0.4607 - val_Accuracy: 0.8008\n",
      "Epoch 16/50\n",
      "96/96 [==============================] - 1s 6ms/step - loss: 0.2616 - Accuracy: 0.9223 - val_loss: 0.4598 - val_Accuracy: 0.8008\n",
      "Epoch 17/50\n",
      "96/96 [==============================] - 1s 6ms/step - loss: 0.2471 - Accuracy: 0.9290 - val_loss: 0.4581 - val_Accuracy: 0.8025\n",
      "Epoch 18/50\n",
      "96/96 [==============================] - 1s 5ms/step - loss: 0.2331 - Accuracy: 0.9346 - val_loss: 0.4574 - val_Accuracy: 0.7992\n",
      "Epoch 19/50\n",
      "96/96 [==============================] - 1s 7ms/step - loss: 0.2202 - Accuracy: 0.9398 - val_loss: 0.4568 - val_Accuracy: 0.7958\n",
      "Epoch 20/50\n",
      "96/96 [==============================] - 0s 4ms/step - loss: 0.2083 - Accuracy: 0.9402 - val_loss: 0.4583 - val_Accuracy: 0.7942\n",
      "Epoch 21/50\n",
      "96/96 [==============================] - 1s 6ms/step - loss: 0.1971 - Accuracy: 0.9463 - val_loss: 0.4583 - val_Accuracy: 0.7942\n",
      "Epoch 22/50\n",
      "96/96 [==============================] - 1s 6ms/step - loss: 0.1865 - Accuracy: 0.9510 - val_loss: 0.4584 - val_Accuracy: 0.7958\n",
      "Epoch 23/50\n",
      "96/96 [==============================] - 0s 4ms/step - loss: 0.1767 - Accuracy: 0.9544 - val_loss: 0.4605 - val_Accuracy: 0.7942\n",
      "Epoch 24/50\n",
      "96/96 [==============================] - 0s 4ms/step - loss: 0.1676 - Accuracy: 0.9571 - val_loss: 0.4616 - val_Accuracy: 0.7950\n",
      "Epoch 25/50\n",
      "96/96 [==============================] - 1s 6ms/step - loss: 0.1589 - Accuracy: 0.9583 - val_loss: 0.4637 - val_Accuracy: 0.7950\n",
      "Epoch 26/50\n",
      "96/96 [==============================] - 1s 6ms/step - loss: 0.1507 - Accuracy: 0.9615 - val_loss: 0.4662 - val_Accuracy: 0.7975\n",
      "Epoch 27/50\n",
      "96/96 [==============================] - 0s 4ms/step - loss: 0.1432 - Accuracy: 0.9633 - val_loss: 0.4683 - val_Accuracy: 0.7983\n",
      "Epoch 28/50\n",
      "96/96 [==============================] - 1s 6ms/step - loss: 0.1361 - Accuracy: 0.9658 - val_loss: 0.4715 - val_Accuracy: 0.7983\n",
      "Epoch 29/50\n",
      "96/96 [==============================] - 1s 6ms/step - loss: 0.1294 - Accuracy: 0.9688 - val_loss: 0.4733 - val_Accuracy: 0.7958\n",
      "Epoch 30/50\n",
      "96/96 [==============================] - 1s 6ms/step - loss: 0.1229 - Accuracy: 0.9719 - val_loss: 0.4757 - val_Accuracy: 0.7992\n",
      "Epoch 31/50\n",
      "96/96 [==============================] - 1s 6ms/step - loss: 0.1171 - Accuracy: 0.9725 - val_loss: 0.4794 - val_Accuracy: 0.7983\n",
      "Epoch 32/50\n",
      "96/96 [==============================] - 0s 4ms/step - loss: 0.1114 - Accuracy: 0.9744 - val_loss: 0.4815 - val_Accuracy: 0.7967\n",
      "Epoch 33/50\n",
      "96/96 [==============================] - 0s 4ms/step - loss: 0.1061 - Accuracy: 0.9762 - val_loss: 0.4855 - val_Accuracy: 0.7967\n",
      "Epoch 34/50\n",
      "96/96 [==============================] - 0s 4ms/step - loss: 0.1011 - Accuracy: 0.9777 - val_loss: 0.4892 - val_Accuracy: 0.7967\n",
      "Epoch 35/50\n",
      "96/96 [==============================] - 0s 4ms/step - loss: 0.0965 - Accuracy: 0.9796 - val_loss: 0.4912 - val_Accuracy: 0.7950\n",
      "Epoch 36/50\n",
      "96/96 [==============================] - 0s 4ms/step - loss: 0.0920 - Accuracy: 0.9819 - val_loss: 0.4964 - val_Accuracy: 0.7958\n",
      "Epoch 37/50\n",
      "96/96 [==============================] - 0s 4ms/step - loss: 0.0879 - Accuracy: 0.9821 - val_loss: 0.4988 - val_Accuracy: 0.7933\n",
      "Epoch 38/50\n",
      "96/96 [==============================] - 1s 6ms/step - loss: 0.0838 - Accuracy: 0.9837 - val_loss: 0.5034 - val_Accuracy: 0.7942\n",
      "Epoch 39/50\n",
      "96/96 [==============================] - 0s 4ms/step - loss: 0.0801 - Accuracy: 0.9844 - val_loss: 0.5070 - val_Accuracy: 0.7942\n",
      "Epoch 40/50\n",
      "96/96 [==============================] - 0s 4ms/step - loss: 0.0765 - Accuracy: 0.9860 - val_loss: 0.5112 - val_Accuracy: 0.7950\n",
      "Epoch 41/50\n",
      "96/96 [==============================] - 0s 4ms/step - loss: 0.0732 - Accuracy: 0.9865 - val_loss: 0.5160 - val_Accuracy: 0.7933\n",
      "Epoch 42/50\n",
      "96/96 [==============================] - 1s 6ms/step - loss: 0.0699 - Accuracy: 0.9869 - val_loss: 0.5184 - val_Accuracy: 0.7917\n",
      "Epoch 43/50\n",
      "96/96 [==============================] - 0s 4ms/step - loss: 0.0670 - Accuracy: 0.9873 - val_loss: 0.5240 - val_Accuracy: 0.7933\n",
      "Epoch 44/50\n",
      "96/96 [==============================] - 0s 4ms/step - loss: 0.0640 - Accuracy: 0.9885 - val_loss: 0.5300 - val_Accuracy: 0.7925\n",
      "Epoch 45/50\n",
      "96/96 [==============================] - 0s 4ms/step - loss: 0.0614 - Accuracy: 0.9890 - val_loss: 0.5356 - val_Accuracy: 0.7883\n",
      "Epoch 46/50\n",
      "96/96 [==============================] - 0s 4ms/step - loss: 0.0588 - Accuracy: 0.9894 - val_loss: 0.5379 - val_Accuracy: 0.7900\n",
      "Epoch 47/50\n",
      "96/96 [==============================] - 0s 4ms/step - loss: 0.0563 - Accuracy: 0.9898 - val_loss: 0.5421 - val_Accuracy: 0.7917\n",
      "Epoch 48/50\n",
      "96/96 [==============================] - 1s 7ms/step - loss: 0.0540 - Accuracy: 0.9902 - val_loss: 0.5488 - val_Accuracy: 0.7817\n",
      "Epoch 49/50\n",
      "96/96 [==============================] - 0s 4ms/step - loss: 0.0518 - Accuracy: 0.9908 - val_loss: 0.5511 - val_Accuracy: 0.7883\n",
      "Epoch 50/50\n",
      "96/96 [==============================] - 1s 6ms/step - loss: 0.0497 - Accuracy: 0.9910 - val_loss: 0.5559 - val_Accuracy: 0.7883\n"
     ]
    }
   ],
   "source": [
    "modelhistory = model.fit(\n",
    "    data.text[:6000],\n",
    "    target[:6000], \n",
    "    epochs=50,\n",
    "    batch_size=50, \n",
    "    validation_split=0.2\n",
    "    # validation_data=(data.text[6000:],target[6000:]),\n",
    "    # callbacks=[EarlyStopping(patience=10)]\n",
    ")"
   ]
  },
  {
   "cell_type": "code",
   "execution_count": 11,
   "id": "bd3204c6-cfb7-4dde-b784-0741dae0c994",
   "metadata": {},
   "outputs": [
    {
     "data": {
      "text/plain": [
       "<AxesSubplot:>"
      ]
     },
     "execution_count": 11,
     "metadata": {},
     "output_type": "execute_result"
    },
    {
     "data": {
      "image/png": "[encoded data removed]",
      "text/plain": [
       "<Figure size 640x480 with 1 Axes>"
      ]
     },
     "metadata": {},
     "output_type": "display_data"
    },
    {
     "data": {
      "image/png": "[encoded data removed]",
      "text/plain": [
       "<Figure size 640x480 with 1 Axes>"
      ]
     },
     "metadata": {},
     "output_type": "display_data"
    }
   ],
   "source": [
    "pd.DataFrame(modelhistory.history)[[\"loss\",\"val_loss\"]].plot()\n",
    "pd.DataFrame(modelhistory.history)[[\"Accuracy\",\"val_Accuracy\"]].plot()"
   ]
  },
  {
   "cell_type": "code",
   "execution_count": 12,
   "id": "82bffd80-97ad-49aa-bdd4-6e39e320559a",
   "metadata": {},
   "outputs": [
    {
     "name": "stdout",
     "output_type": "stream",
     "text": [
      "1/1 [==============================] - 0s 104ms/step\n"
     ]
    },
    {
     "data": {
      "text/plain": [
       "array([[0.0013806 , 0.99861944],\n",
       "       [0.5108454 , 0.4891546 ]], dtype=float32)"
      ]
     },
     "execution_count": 12,
     "metadata": {},
     "output_type": "execute_result"
    }
   ],
   "source": [
    "model.predict(data.text[:2])"
   ]
  }
 ],
 "metadata": {
  "environment": {
   "kernel": "python3",
   "name": "tf2-gpu.2-8.m102",
   "type": "gcloud",
   "uri": "gcr.io/deeplearning-platform-release/tf2-gpu.2-8:m102"
  },
  "kernelspec": {
   "display_name": "Python 3 (ipykernel)",
   "language": "python",
   "name": "python3"
  },
  "language_info": {
   "codemirror_mode": {
    "name": "ipython",
    "version": 3
   },
   "file_extension": ".py",
   "mimetype": "text/x-python",
   "name": "python",
   "nbconvert_exporter": "python",
   "pygments_lexer": "ipython3",
   "version": "3.7.12"
  }
 },
 "nbformat": 4,
 "nbformat_minor": 5
}
