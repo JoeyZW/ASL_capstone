{
 "cells": [
  {
   "cell_type": "code",
   "execution_count": 1,
   "id": "4afba91a-a380-4937-b962-105c3e9664f1",
   "metadata": {},
   "outputs": [
    {
     "name": "stderr",
     "output_type": "stream",
     "text": [
      "2023-02-08 14:43:38.224207: I tensorflow/core/platform/cpu_feature_guard.cc:193] This TensorFlow binary is optimized with oneAPI Deep Neural Network Library (oneDNN) to use the following CPU instructions in performance-critical operations:  AVX2 FMA\n",
      "To enable them in other operations, rebuild TensorFlow with the appropriate compiler flags.\n",
      "2023-02-08 14:43:39.086536: W tensorflow/compiler/xla/stream_executor/platform/default/dso_loader.cc:64] Could not load dynamic library 'libnvinfer.so.7'; dlerror: libnvinfer.so.7: cannot open shared object file: No such file or directory; LD_LIBRARY_PATH: /usr/local/cuda/lib64:/usr/local/nccl2/lib:/usr/local/cuda/extras/CUPTI/lib64\n",
      "2023-02-08 14:43:39.086657: W tensorflow/compiler/xla/stream_executor/platform/default/dso_loader.cc:64] Could not load dynamic library 'libnvinfer_plugin.so.7'; dlerror: libnvinfer_plugin.so.7: cannot open shared object file: No such file or directory; LD_LIBRARY_PATH: /usr/local/cuda/lib64:/usr/local/nccl2/lib:/usr/local/cuda/extras/CUPTI/lib64\n",
      "2023-02-08 14:43:39.086670: W tensorflow/compiler/tf2tensorrt/utils/py_utils.cc:38] TF-TRT Warning: Cannot dlopen some TensorRT libraries. If you would like to use Nvidia GPU with TensorRT, please make sure the missing libraries mentioned above are installed properly.\n"
     ]
    },
    {
     "name": "stdout",
     "output_type": "stream",
     "text": [
      "2.11.0\n"
     ]
    }
   ],
   "source": [
    "import os\n",
    "import shutil\n",
    "\n",
    "import pandas as pd\n",
    "import tensorflow as tf\n",
    "import numpy as np\n",
    "import keras\n",
    "from keras import Input\n",
    "from keras.layers import TextVectorization\n",
    "from tensorflow.keras.callbacks import EarlyStopping, TensorBoard\n",
    "from tensorflow.keras.layers import (\n",
    "    GRU,\n",
    "    Conv1D,\n",
    "    Dense,\n",
    "    Embedding,\n",
    "    Flatten,\n",
    "    Lambda,\n",
    ")\n",
    "from tensorflow.keras.models import Sequential\n",
    "from tensorflow.keras.utils import to_categorical\n",
    "\n",
    "print(tf.__version__)"
   ]
  },
  {
   "cell_type": "code",
   "execution_count": 2,
   "id": "c1f383da-c848-4ee5-93f2-01975134b723",
   "metadata": {},
   "outputs": [],
   "source": [
    "#read data\n",
    "data = pd.read_csv(\"./data/train.csv\")\n",
    "#shuffle data\n",
    "data = data.sample(frac=1)\n",
    "\n",
    "#print data\n",
    "#data.head(10)\n",
    "#data[\"keyword\"].unique()"
   ]
  },
  {
   "cell_type": "code",
   "execution_count": 3,
   "id": "1d57dfb8-6507-4727-b555-33d812ee8583",
   "metadata": {},
   "outputs": [
    {
     "data": {
      "text/plain": [
       "array([0., 1.], dtype=float32)"
      ]
     },
     "execution_count": 3,
     "metadata": {},
     "output_type": "execute_result"
    }
   ],
   "source": [
    "#one hot encode target\n",
    "classes = [[0,1][source] for source in data.target]\n",
    "target = to_categorical(classes)\n",
    "#print target\n",
    "target[10]"
   ]
  },
  {
   "cell_type": "code",
   "execution_count": 4,
   "id": "55656c08-3030-4a56-b36d-acaa247901a2",
   "metadata": {},
   "outputs": [
    {
     "name": "stderr",
     "output_type": "stream",
     "text": [
      "2023-02-08 14:43:41.656939: I tensorflow/compiler/xla/stream_executor/cuda/cuda_gpu_executor.cc:981] successful NUMA node read from SysFS had negative value (-1), but there must be at least one NUMA node, so returning NUMA node zero\n",
      "2023-02-08 14:43:41.670868: I tensorflow/compiler/xla/stream_executor/cuda/cuda_gpu_executor.cc:981] successful NUMA node read from SysFS had negative value (-1), but there must be at least one NUMA node, so returning NUMA node zero\n",
      "2023-02-08 14:43:41.672729: I tensorflow/compiler/xla/stream_executor/cuda/cuda_gpu_executor.cc:981] successful NUMA node read from SysFS had negative value (-1), but there must be at least one NUMA node, so returning NUMA node zero\n",
      "2023-02-08 14:43:41.675231: I tensorflow/core/platform/cpu_feature_guard.cc:193] This TensorFlow binary is optimized with oneAPI Deep Neural Network Library (oneDNN) to use the following CPU instructions in performance-critical operations:  AVX2 FMA\n",
      "To enable them in other operations, rebuild TensorFlow with the appropriate compiler flags.\n",
      "2023-02-08 14:43:41.676170: I tensorflow/compiler/xla/stream_executor/cuda/cuda_gpu_executor.cc:981] successful NUMA node read from SysFS had negative value (-1), but there must be at least one NUMA node, so returning NUMA node zero\n",
      "2023-02-08 14:43:41.678020: I tensorflow/compiler/xla/stream_executor/cuda/cuda_gpu_executor.cc:981] successful NUMA node read from SysFS had negative value (-1), but there must be at least one NUMA node, so returning NUMA node zero\n",
      "2023-02-08 14:43:41.679748: I tensorflow/compiler/xla/stream_executor/cuda/cuda_gpu_executor.cc:981] successful NUMA node read from SysFS had negative value (-1), but there must be at least one NUMA node, so returning NUMA node zero\n",
      "2023-02-08 14:43:42.411092: I tensorflow/compiler/xla/stream_executor/cuda/cuda_gpu_executor.cc:981] successful NUMA node read from SysFS had negative value (-1), but there must be at least one NUMA node, so returning NUMA node zero\n",
      "2023-02-08 14:43:42.413095: I tensorflow/compiler/xla/stream_executor/cuda/cuda_gpu_executor.cc:981] successful NUMA node read from SysFS had negative value (-1), but there must be at least one NUMA node, so returning NUMA node zero\n",
      "2023-02-08 14:43:42.414783: I tensorflow/compiler/xla/stream_executor/cuda/cuda_gpu_executor.cc:981] successful NUMA node read from SysFS had negative value (-1), but there must be at least one NUMA node, so returning NUMA node zero\n",
      "2023-02-08 14:43:42.416445: I tensorflow/core/common_runtime/gpu/gpu_device.cc:1613] Created device /job:localhost/replica:0/task:0/device:GPU:0 with 13582 MB memory:  -> device: 0, name: Tesla T4, pci bus id: 0000:00:04.0, compute capability: 7.5\n"
     ]
    }
   ],
   "source": [
    "MAX_LEN = 22\n",
    "MAX_TOKENS = 100000\n",
    "\n",
    "preprocessing_layer = TextVectorization(\n",
    "    output_sequence_length=MAX_LEN, \n",
    "    max_tokens=MAX_TOKENS\n",
    "    #, vocabulary = np.array([\"Our\",\"are\", \"in\"])\n",
    ")"
   ]
  },
  {
   "cell_type": "code",
   "execution_count": 5,
   "id": "646cb946-9c08-4594-8613-da7460f75a80",
   "metadata": {},
   "outputs": [],
   "source": [
    "preprocessing_layer.adapt(data.text)\n"
   ]
  },
  {
   "cell_type": "code",
   "execution_count": 6,
   "id": "e8a1c1c0-6b75-451c-a351-834da399c03c",
   "metadata": {},
   "outputs": [
    {
     "data": {
      "text/plain": [
       "<tf.Tensor: shape=(10, 22), dtype=int64, numpy=\n",
       "array([[   82, 11901,  6120,  9474, 12479,  7670,   605,     6,  2290,\n",
       "         1637, 21451, 21242,  6285,   696,  1654, 20083,  2817,  3330,\n",
       "            0,     0,     0,     0],\n",
       "       [ 8207,   634,    97,     8,    23,   622,     3,   282,   390,\n",
       "           31,   625,    30,  3267,     3,   407,     6,  6037,    24,\n",
       "         1010,    15,   172,   367],\n",
       "       [  305,  5190,   264,   262,   134,  2031,   892,    10, 12207,\n",
       "         1900,   862, 22681, 22504, 11736, 13403,     0,     0,     0,\n",
       "            0,     0,     0,     0],\n",
       "       [    5,  5532,    60,   171,    40,   727,    40,     6,    91,\n",
       "          757,   557,  6664,  4723,     0,     0,     0,     0,     0,\n",
       "            0,     0,     0,     0],\n",
       "       [ 4011, 21177,  5659,   474,  1921,  2148,  1494,   505,  1501,\n",
       "        14392,     0,     0,     0,     0,     0,     0,     0,     0,\n",
       "            0,     0,     0,     0],\n",
       "       [   45,    12, 20873,     7,   257,   996,    36,     0,     0,\n",
       "            0,     0,     0,     0,     0,     0,     0,     0,     0,\n",
       "            0,     0,     0,     0],\n",
       "       [  279, 20733, 20248,  4439,   662,   140,  8560,   799,   198,\n",
       "         1365,     3,  1628,   145,     6,   990,  7055,     0,     0,\n",
       "            0,     0,     0,     0],\n",
       "       [ 1570,     8,    95,  4420,     7,    32,    34,   156,     3,\n",
       "         5138,     0,     0,     0,     0,     0,     0,     0,     0,\n",
       "            0,     0,     0,     0],\n",
       "       [   99,   185,     6,  4698,   483,   130, 11572,     2,  1319,\n",
       "            8,  1589,  1609,     5,    48,     3,  1282,   824,     7,\n",
       "          557,    13,  8034,   402],\n",
       "       [  444,   655,     8,  1103,     5,   117,     3,   874,  1159,\n",
       "         1486,     4, 12015,    16,    23,   501,    18,   169,  4422,\n",
       "         1966,  2661,     4,     3]])>"
      ]
     },
     "execution_count": 6,
     "metadata": {},
     "output_type": "execute_result"
    }
   ],
   "source": [
    "preprocessing_layer(data.text[:10])"
   ]
  },
  {
   "cell_type": "code",
   "execution_count": 7,
   "id": "70c2ff81-53be-44c5-9f6a-163184769d8b",
   "metadata": {},
   "outputs": [
    {
     "data": {
      "text/plain": [
       "22699"
      ]
     },
     "execution_count": 7,
     "metadata": {},
     "output_type": "execute_result"
    }
   ],
   "source": [
    "VOCAB_SIZE = len(preprocessing_layer.get_vocabulary())\n",
    "VOCAB_SIZE"
   ]
  },
  {
   "cell_type": "code",
   "execution_count": 8,
   "id": "7253e318-71fb-4873-97d0-be6bc658d974",
   "metadata": {},
   "outputs": [
    {
     "name": "stdout",
     "output_type": "stream",
     "text": [
      "Model: \"modeltest\"\n",
      "_________________________________________________________________\n",
      " Layer (type)                Output Shape              Param #   \n",
      "=================================================================\n",
      " input_1 (InputLayer)        [(None, 1)]               0         \n",
      "                                                                 \n",
      " text_vectorization (TextVec  (None, 22)               0         \n",
      " torization)                                                     \n",
      "                                                                 \n",
      " embedding (Embedding)       (None, 22, 5)             113500    \n",
      "                                                                 \n",
      " gru (GRU)                   (None, 8)                 360       \n",
      "                                                                 \n",
      " dense (Dense)               (None, 2)                 18        \n",
      "                                                                 \n",
      "=================================================================\n",
      "Total params: 113,878\n",
      "Trainable params: 113,878\n",
      "Non-trainable params: 0\n",
      "_________________________________________________________________\n"
     ]
    }
   ],
   "source": [
    "inputs = Input(shape=(1,),dtype=tf.string)\n",
    "x = preprocessing_layer(inputs)\n",
    "x = Embedding(VOCAB_SIZE+1,5,input_shape=[22],mask_zero=True)(x)\n",
    "x= GRU(8)(x)\n",
    "outputs = Dense(2,activation=\"softmax\")(x)\n",
    "\n",
    "model = keras.Model(inputs=inputs,outputs=outputs,name=\"modeltest\")\n",
    "model.summary()\n",
    "model.compile(optimizer=tf.keras.optimizers.Adam(learning_rate=1e-3), loss=\"categorical_crossentropy\",metrics=[\"Accuracy\"])"
   ]
  },
  {
   "cell_type": "code",
   "execution_count": 9,
   "id": "95bf04c7-78a1-4c9a-b9ca-da485377df01",
   "metadata": {},
   "outputs": [],
   "source": [
    "# model = Sequential([\n",
    "#     Input(shape=(1,),dtype=tf.string),\n",
    "#     preprocessing_layer,\n",
    "#     Embedding(\n",
    "#             VOCAB_SIZE+1, 5, input_shape=[22], mask_zero=True\n",
    "#     ),\n",
    "#     #Lambda(lambda x:tf.reduce_mean(x,axis=1)),\n",
    "#     GRU(8),\n",
    "#     Dense(2,activation=\"softmax\")\n",
    "# ])\n",
    "# model.compile(optimizer=tf.keras.optimizers.Adam(learning_rate=1e-3), loss=\"categorical_crossentropy\",metrics=[\"Accuracy\"])"
   ]
  },
  {
   "cell_type": "code",
   "execution_count": 10,
   "id": "5bd7c681-8d07-42dc-820a-7e58c7f878c0",
   "metadata": {},
   "outputs": [
    {
     "name": "stdout",
     "output_type": "stream",
     "text": [
      "Epoch 1/50\n"
     ]
    },
    {
     "name": "stderr",
     "output_type": "stream",
     "text": [
      "2023-02-08 14:43:48.288757: I tensorflow/compiler/xla/stream_executor/cuda/cuda_dnn.cc:428] Loaded cuDNN version 8200\n",
      "2023-02-08 14:43:49.354793: I tensorflow/compiler/xla/service/service.cc:173] XLA service 0x7fa4cf127e20 initialized for platform CUDA (this does not guarantee that XLA will be used). Devices:\n",
      "2023-02-08 14:43:49.354842: I tensorflow/compiler/xla/service/service.cc:181]   StreamExecutor device (0): Tesla T4, Compute Capability 7.5\n",
      "2023-02-08 14:43:49.361471: I tensorflow/compiler/mlir/tensorflow/utils/dump_mlir_util.cc:268] disabling MLIR crash reproducer, set env var `MLIR_CRASH_REPRODUCER_DIRECTORY` to enable.\n",
      "2023-02-08 14:43:49.513885: I tensorflow/compiler/jit/xla_compilation_cache.cc:477] Compiled cluster using XLA!  This line is logged at most once for the lifetime of the process.\n"
     ]
    },
    {
     "name": "stdout",
     "output_type": "stream",
     "text": [
      "120/120 [==============================] - 19s 113ms/step - loss: 0.6813 - Accuracy: 0.5710 - val_loss: 0.6724 - val_Accuracy: 0.5592\n",
      "Epoch 2/50\n",
      "120/120 [==============================] - 6s 46ms/step - loss: 0.5614 - Accuracy: 0.7030 - val_loss: 0.4736 - val_Accuracy: 0.7880\n",
      "Epoch 3/50\n",
      "120/120 [==============================] - 3s 24ms/step - loss: 0.3202 - Accuracy: 0.8797 - val_loss: 0.4449 - val_Accuracy: 0.8053\n",
      "Epoch 4/50\n",
      "120/120 [==============================] - 3s 23ms/step - loss: 0.1819 - Accuracy: 0.9357 - val_loss: 0.4911 - val_Accuracy: 0.7991\n",
      "Epoch 5/50\n",
      "120/120 [==============================] - 2s 17ms/step - loss: 0.1036 - Accuracy: 0.9665 - val_loss: 0.5499 - val_Accuracy: 0.7812\n",
      "Epoch 6/50\n",
      "120/120 [==============================] - 2s 15ms/step - loss: 0.0667 - Accuracy: 0.9790 - val_loss: 0.6090 - val_Accuracy: 0.7793\n",
      "Epoch 7/50\n",
      "120/120 [==============================] - 2s 14ms/step - loss: 0.0471 - Accuracy: 0.9867 - val_loss: 0.6706 - val_Accuracy: 0.7830\n",
      "Epoch 8/50\n",
      "120/120 [==============================] - 1s 10ms/step - loss: 0.0356 - Accuracy: 0.9903 - val_loss: 0.6835 - val_Accuracy: 0.7805\n",
      "Epoch 9/50\n",
      "120/120 [==============================] - 1s 11ms/step - loss: 0.0297 - Accuracy: 0.9922 - val_loss: 0.7251 - val_Accuracy: 0.7688\n",
      "Epoch 10/50\n",
      "120/120 [==============================] - 1s 11ms/step - loss: 0.0254 - Accuracy: 0.9938 - val_loss: 0.7989 - val_Accuracy: 0.7712\n",
      "Epoch 11/50\n",
      "120/120 [==============================] - 1s 9ms/step - loss: 0.0212 - Accuracy: 0.9945 - val_loss: 0.8391 - val_Accuracy: 0.7756\n",
      "Epoch 12/50\n",
      "120/120 [==============================] - 1s 9ms/step - loss: 0.0173 - Accuracy: 0.9952 - val_loss: 0.8364 - val_Accuracy: 0.7743\n",
      "Epoch 13/50\n",
      "120/120 [==============================] - 1s 9ms/step - loss: 0.0165 - Accuracy: 0.9947 - val_loss: 0.8764 - val_Accuracy: 0.7787\n"
     ]
    }
   ],
   "source": [
    "modelhistory = model.fit(\n",
    "    data.text[:6000],\n",
    "    target[:6000], \n",
    "    epochs=50,\n",
    "    batch_size=50, \n",
    "    validation_data=(data.text[6000:],target[6000:]),\n",
    "    callbacks=[EarlyStopping(patience=10)]\n",
    ")"
   ]
  },
  {
   "cell_type": "code",
   "execution_count": 11,
   "id": "4c8023f4-808b-4d4d-b75c-bc1e6c620153",
   "metadata": {},
   "outputs": [
    {
     "name": "stdout",
     "output_type": "stream",
     "text": [
      "Model: \"modeltest\"\n",
      "_________________________________________________________________\n",
      " Layer (type)                Output Shape              Param #   \n",
      "=================================================================\n",
      " input_1 (InputLayer)        [(None, 1)]               0         \n",
      "                                                                 \n",
      " text_vectorization (TextVec  (None, 22)               0         \n",
      " torization)                                                     \n",
      "                                                                 \n",
      " embedding (Embedding)       (None, 22, 5)             113500    \n",
      "                                                                 \n",
      " gru (GRU)                   (None, 8)                 360       \n",
      "                                                                 \n",
      " dense (Dense)               (None, 2)                 18        \n",
      "                                                                 \n",
      "=================================================================\n",
      "Total params: 113,878\n",
      "Trainable params: 113,878\n",
      "Non-trainable params: 0\n",
      "_________________________________________________________________\n"
     ]
    }
   ],
   "source": [
    "model.summary()"
   ]
  },
  {
   "cell_type": "code",
   "execution_count": 12,
   "id": "bd3204c6-cfb7-4dde-b784-0741dae0c994",
   "metadata": {},
   "outputs": [
    {
     "data": {
      "text/plain": [
       "<AxesSubplot:>"
      ]
     },
     "execution_count": 12,
     "metadata": {},
     "output_type": "execute_result"
    },
    {
     "data": {
      "image/png": "[encoded data removed]",
      "text/plain": [
       "<Figure size 640x480 with 1 Axes>"
      ]
     },
     "metadata": {},
     "output_type": "display_data"
    },
    {
     "data": {
      "image/png": "[encoded data removed]",
      "text/plain": [
       "<Figure size 640x480 with 1 Axes>"
      ]
     },
     "metadata": {},
     "output_type": "display_data"
    }
   ],
   "source": [
    "pd.DataFrame(modelhistory.history)[[\"loss\",\"val_loss\"]].plot()\n",
    "pd.DataFrame(modelhistory.history)[[\"Accuracy\",\"val_Accuracy\"]].plot()"
   ]
  },
  {
   "cell_type": "code",
   "execution_count": 13,
   "id": "82bffd80-97ad-49aa-bdd4-6e39e320559a",
   "metadata": {},
   "outputs": [
    {
     "name": "stdout",
     "output_type": "stream",
     "text": [
      "1/1 [==============================] - 1s 1s/step\n"
     ]
    },
    {
     "data": {
      "text/plain": [
       "array([[9.9870420e-01, 1.2957345e-03],\n",
       "       [9.9909770e-01, 9.0233795e-04]], dtype=float32)"
      ]
     },
     "execution_count": 13,
     "metadata": {},
     "output_type": "execute_result"
    }
   ],
   "source": [
    "model.predict(data.text[:2])"
   ]
  }
 ],
 "metadata": {
  "environment": {
   "kernel": "python3",
   "name": "tf2-gpu.2-8.m102",
   "type": "gcloud",
   "uri": "gcr.io/deeplearning-platform-release/tf2-gpu.2-8:m102"
  },
  "kernelspec": {
   "display_name": "Python 3 (ipykernel)",
   "language": "python",
   "name": "python3"
  },
  "language_info": {
   "codemirror_mode": {
    "name": "ipython",
    "version": 3
   },
   "file_extension": ".py",
   "mimetype": "text/x-python",
   "name": "python",
   "nbconvert_exporter": "python",
   "pygments_lexer": "ipython3",
   "version": "3.7.12"
  }
 },
 "nbformat": 4,
 "nbformat_minor": 5
}
