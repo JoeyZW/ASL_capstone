{
 "cells": [
  {
   "cell_type": "code",
   "execution_count": 1,
   "id": "4afba91a-a380-4937-b962-105c3e9664f1",
   "metadata": {},
   "outputs": [
    {
     "name": "stderr",
     "output_type": "stream",
     "text": [
      "2023-02-08 14:57:40.963541: I tensorflow/core/platform/cpu_feature_guard.cc:193] This TensorFlow binary is optimized with oneAPI Deep Neural Network Library (oneDNN) to use the following CPU instructions in performance-critical operations:  AVX2 FMA\n",
      "To enable them in other operations, rebuild TensorFlow with the appropriate compiler flags.\n",
      "2023-02-08 14:57:42.092439: W tensorflow/compiler/xla/stream_executor/platform/default/dso_loader.cc:64] Could not load dynamic library 'libnvinfer.so.7'; dlerror: libnvinfer.so.7: cannot open shared object file: No such file or directory; LD_LIBRARY_PATH: /usr/local/cuda/lib64:/usr/local/nccl2/lib:/usr/local/cuda/extras/CUPTI/lib64\n",
      "2023-02-08 14:57:42.092607: W tensorflow/compiler/xla/stream_executor/platform/default/dso_loader.cc:64] Could not load dynamic library 'libnvinfer_plugin.so.7'; dlerror: libnvinfer_plugin.so.7: cannot open shared object file: No such file or directory; LD_LIBRARY_PATH: /usr/local/cuda/lib64:/usr/local/nccl2/lib:/usr/local/cuda/extras/CUPTI/lib64\n",
      "2023-02-08 14:57:42.092626: W tensorflow/compiler/tf2tensorrt/utils/py_utils.cc:38] TF-TRT Warning: Cannot dlopen some TensorRT libraries. If you would like to use Nvidia GPU with TensorRT, please make sure the missing libraries mentioned above are installed properly.\n"
     ]
    },
    {
     "name": "stdout",
     "output_type": "stream",
     "text": [
      "2.11.0\n"
     ]
    }
   ],
   "source": [
    "import os\n",
    "import shutil\n",
    "\n",
    "import pandas as pd\n",
    "import tensorflow as tf\n",
    "import numpy as np\n",
    "import keras\n",
    "from keras import Input\n",
    "from keras.layers import TextVectorization\n",
    "from tensorflow.keras.callbacks import EarlyStopping, TensorBoard\n",
    "from tensorflow.keras.layers import (\n",
    "    GRU,\n",
    "    Conv1D,\n",
    "    Dense,\n",
    "    Embedding,\n",
    "    Flatten,\n",
    "    Lambda,\n",
    ")\n",
    "from tensorflow.keras.models import Sequential\n",
    "from tensorflow.keras.utils import to_categorical\n",
    "\n",
    "print(tf.__version__)"
   ]
  },
  {
   "cell_type": "code",
   "execution_count": 2,
   "id": "c1f383da-c848-4ee5-93f2-01975134b723",
   "metadata": {},
   "outputs": [],
   "source": [
    "#read data\n",
    "data = pd.read_csv(\"./data/train.csv\")\n",
    "#shuffle data\n",
    "data = data.sample(frac=1)\n",
    "\n",
    "#print data\n",
    "#data.head(10)\n",
    "#data[\"keyword\"].unique()"
   ]
  },
  {
   "cell_type": "code",
   "execution_count": null,
   "id": "1d57dfb8-6507-4727-b555-33d812ee8583",
   "metadata": {},
   "outputs": [
    {
     "ename": "NameError",
     "evalue": "name 'dataSort' is not defined",
     "output_type": "error",
     "traceback": [
      "\u001b[0;31m---------------------------------------------------------------------------\u001b[0m",
      "\u001b[0;31mNameError\u001b[0m                                 Traceback (most recent call last)",
      "\u001b[0;32m/tmp/ipykernel_878/153629957.py\u001b[0m in \u001b[0;36m<module>\u001b[0;34m\u001b[0m\n\u001b[1;32m      1\u001b[0m \u001b[0;31m#one hot encode target\u001b[0m\u001b[0;34m\u001b[0m\u001b[0;34m\u001b[0m\u001b[0;34m\u001b[0m\u001b[0m\n\u001b[0;32m----> 2\u001b[0;31m \u001b[0mclasses\u001b[0m \u001b[0;34m=\u001b[0m \u001b[0;34m[\u001b[0m\u001b[0;34m{\u001b[0m\u001b[0;34m\"A\"\u001b[0m\u001b[0;34m:\u001b[0m\u001b[0;36m0\u001b[0m\u001b[0;34m,\u001b[0m\u001b[0;34m\"B\"\u001b[0m\u001b[0;34m:\u001b[0m\u001b[0;36m1\u001b[0m\u001b[0;34m,\u001b[0m\u001b[0;34m\"C\"\u001b[0m\u001b[0;34m:\u001b[0m\u001b[0;36m2\u001b[0m\u001b[0;34m,\u001b[0m\u001b[0;34m\"D\"\u001b[0m\u001b[0;34m:\u001b[0m\u001b[0;36m3\u001b[0m\u001b[0;34m,\u001b[0m\u001b[0;34m\"E\"\u001b[0m\u001b[0;34m:\u001b[0m\u001b[0;36m4\u001b[0m\u001b[0;34m,\u001b[0m\u001b[0;34m\"F\"\u001b[0m\u001b[0;34m:\u001b[0m\u001b[0;36m5\u001b[0m\u001b[0;34m,\u001b[0m\u001b[0;34m\"G\"\u001b[0m\u001b[0;34m:\u001b[0m\u001b[0;36m6\u001b[0m\u001b[0;34m,\u001b[0m\u001b[0;34m\"H\"\u001b[0m\u001b[0;34m:\u001b[0m\u001b[0;36m7\u001b[0m\u001b[0;34m}\u001b[0m\u001b[0;34m[\u001b[0m\u001b[0msource\u001b[0m\u001b[0;34m]\u001b[0m \u001b[0;32mfor\u001b[0m \u001b[0msource\u001b[0m \u001b[0;32min\u001b[0m \u001b[0mdataSort\u001b[0m\u001b[0;34m.\u001b[0m\u001b[0mtarget\u001b[0m\u001b[0;34m]\u001b[0m\u001b[0;34m\u001b[0m\u001b[0;34m\u001b[0m\u001b[0m\n\u001b[0m\u001b[1;32m      3\u001b[0m \u001b[0mtarget\u001b[0m \u001b[0;34m=\u001b[0m \u001b[0mto_categorical\u001b[0m\u001b[0;34m(\u001b[0m\u001b[0mclasses\u001b[0m\u001b[0;34m)\u001b[0m\u001b[0;34m\u001b[0m\u001b[0;34m\u001b[0m\u001b[0m\n\u001b[1;32m      4\u001b[0m \u001b[0;31m#print target\u001b[0m\u001b[0;34m\u001b[0m\u001b[0;34m\u001b[0m\u001b[0;34m\u001b[0m\u001b[0m\n\u001b[1;32m      5\u001b[0m \u001b[0mtarget\u001b[0m\u001b[0;34m[\u001b[0m\u001b[0;36m10\u001b[0m\u001b[0;34m]\u001b[0m\u001b[0;34m\u001b[0m\u001b[0;34m\u001b[0m\u001b[0m\n",
      "\u001b[0;31mNameError\u001b[0m: name 'dataSort' is not defined"
     ]
    }
   ],
   "source": [
    "#one hot encode target\n",
    "classes = [[0,1][source] for source in data.target]\n",
    "target = to_categorical(classes)\n",
    "#print target\n",
    "target[10]"
   ]
  },
  {
   "cell_type": "code",
   "execution_count": 4,
   "id": "55656c08-3030-4a56-b36d-acaa247901a2",
   "metadata": {},
   "outputs": [
    {
     "name": "stderr",
     "output_type": "stream",
     "text": [
      "2023-02-08 14:57:43.232544: I tensorflow/compiler/xla/stream_executor/cuda/cuda_gpu_executor.cc:981] successful NUMA node read from SysFS had negative value (-1), but there must be at least one NUMA node, so returning NUMA node zero\n",
      "2023-02-08 14:57:43.247475: I tensorflow/compiler/xla/stream_executor/cuda/cuda_gpu_executor.cc:981] successful NUMA node read from SysFS had negative value (-1), but there must be at least one NUMA node, so returning NUMA node zero\n",
      "2023-02-08 14:57:43.249481: I tensorflow/compiler/xla/stream_executor/cuda/cuda_gpu_executor.cc:981] successful NUMA node read from SysFS had negative value (-1), but there must be at least one NUMA node, so returning NUMA node zero\n",
      "2023-02-08 14:57:43.253318: I tensorflow/core/platform/cpu_feature_guard.cc:193] This TensorFlow binary is optimized with oneAPI Deep Neural Network Library (oneDNN) to use the following CPU instructions in performance-critical operations:  AVX2 FMA\n",
      "To enable them in other operations, rebuild TensorFlow with the appropriate compiler flags.\n",
      "2023-02-08 14:57:43.253877: I tensorflow/compiler/xla/stream_executor/cuda/cuda_gpu_executor.cc:981] successful NUMA node read from SysFS had negative value (-1), but there must be at least one NUMA node, so returning NUMA node zero\n",
      "2023-02-08 14:57:43.255787: I tensorflow/compiler/xla/stream_executor/cuda/cuda_gpu_executor.cc:981] successful NUMA node read from SysFS had negative value (-1), but there must be at least one NUMA node, so returning NUMA node zero\n",
      "2023-02-08 14:57:43.257632: I tensorflow/compiler/xla/stream_executor/cuda/cuda_gpu_executor.cc:981] successful NUMA node read from SysFS had negative value (-1), but there must be at least one NUMA node, so returning NUMA node zero\n",
      "2023-02-08 14:57:44.159396: I tensorflow/compiler/xla/stream_executor/cuda/cuda_gpu_executor.cc:981] successful NUMA node read from SysFS had negative value (-1), but there must be at least one NUMA node, so returning NUMA node zero\n",
      "2023-02-08 14:57:44.161754: I tensorflow/compiler/xla/stream_executor/cuda/cuda_gpu_executor.cc:981] successful NUMA node read from SysFS had negative value (-1), but there must be at least one NUMA node, so returning NUMA node zero\n",
      "2023-02-08 14:57:44.163771: I tensorflow/compiler/xla/stream_executor/cuda/cuda_gpu_executor.cc:981] successful NUMA node read from SysFS had negative value (-1), but there must be at least one NUMA node, so returning NUMA node zero\n",
      "2023-02-08 14:57:44.165579: I tensorflow/core/common_runtime/gpu/gpu_device.cc:1613] Created device /job:localhost/replica:0/task:0/device:GPU:0 with 604 MB memory:  -> device: 0, name: Tesla T4, pci bus id: 0000:00:04.0, compute capability: 7.5\n"
     ]
    }
   ],
   "source": [
    "MAX_LEN = 22\n",
    "MAX_TOKENS = 100000\n",
    "\n",
    "preprocessing_layer = TextVectorization(\n",
    "    output_sequence_length=MAX_LEN, \n",
    "    max_tokens=MAX_TOKENS\n",
    "    #, vocabulary = np.array([\"Our\",\"are\", \"in\"])\n",
    ")"
   ]
  },
  {
   "cell_type": "code",
   "execution_count": 5,
   "id": "646cb946-9c08-4594-8613-da7460f75a80",
   "metadata": {},
   "outputs": [],
   "source": [
    "preprocessing_layer.adapt(data.text)\n"
   ]
  },
  {
   "cell_type": "code",
   "execution_count": 6,
   "id": "e8a1c1c0-6b75-451c-a351-834da399c03c",
   "metadata": {},
   "outputs": [
    {
     "data": {
      "text/plain": [
       "<tf.Tensor: shape=(10, 22), dtype=int64, numpy=\n",
       "array([[  922,    49,   224,   615,   546,    66,   758,   136,   449,\n",
       "          963,   823,    54,   426, 13281, 16943,     0,     0,     0,\n",
       "            0,     0,     0,     0],\n",
       "       [   81,     6,   827,  1381,  6060,    20,   895,   516,   893,\n",
       "        22365, 11065,    16,  1129,    73,  3039,  6920,  1105,  1108,\n",
       "           15,     0,     0,     0],\n",
       "       [  988,  1710,    42,   243,   123,   561,     4,  1292,  1710,\n",
       "            6,  3983,  6611,    42,  1849, 10629,  2858,  8807, 14382,\n",
       "            0,     0,     0,     0],\n",
       "       [ 1559,    50,     5,   150,    10,  6200,   669,    26,  1603,\n",
       "           73,   287,   120,    93, 22256,  9118,  2762,     4, 17971,\n",
       "          808, 16016,     0,     0],\n",
       "       [19937,   485, 22295,     0,     0,     0,     0,     0,     0,\n",
       "            0,     0,     0,     0,     0,     0,     0,     0,     0,\n",
       "            0,     0,     0,     0],\n",
       "       [  117,   152,    17, 18219,  5287,   172,    50,    15,   270,\n",
       "           25,     2,  2348,     6,    43,  6144,   461,   265,     0,\n",
       "            0,     0,     0,     0],\n",
       "       [  933,   798,   192,  2019,  1914,  3841,    10,  1732,   933,\n",
       "          798,   192,  2019,  1914, 21719,     0,     0,     0,     0,\n",
       "            0,     0,     0,     0],\n",
       "       [  471,   780,   578,    38,   169,  1509,  6607,  9304,   413,\n",
       "          279, 13280,     0,     0,     0,     0,     0,     0,     0,\n",
       "            0,     0,     0,     0],\n",
       "       [ 1184,  1903,   115,     4,  3152,  3102,    89,   111, 16896,\n",
       "            0,     0,     0,     0,     0,     0,     0,     0,     0,\n",
       "            0,     0,     0,     0],\n",
       "       [ 4256,     2, 12780,  4874,   300,     0,     0,     0,     0,\n",
       "            0,     0,     0,     0,     0,     0,     0,     0,     0,\n",
       "            0,     0,     0,     0]])>"
      ]
     },
     "execution_count": 6,
     "metadata": {},
     "output_type": "execute_result"
    }
   ],
   "source": [
    "preprocessing_layer(data.text[:10])"
   ]
  },
  {
   "cell_type": "code",
   "execution_count": 7,
   "id": "70c2ff81-53be-44c5-9f6a-163184769d8b",
   "metadata": {},
   "outputs": [
    {
     "data": {
      "text/plain": [
       "22699"
      ]
     },
     "execution_count": 7,
     "metadata": {},
     "output_type": "execute_result"
    }
   ],
   "source": [
    "VOCAB_SIZE = len(preprocessing_layer.get_vocabulary())\n",
    "VOCAB_SIZE"
   ]
  },
  {
   "cell_type": "code",
   "execution_count": 8,
   "id": "7253e318-71fb-4873-97d0-be6bc658d974",
   "metadata": {},
   "outputs": [
    {
     "name": "stdout",
     "output_type": "stream",
     "text": [
      "Model: \"modeltest\"\n",
      "_________________________________________________________________\n",
      " Layer (type)                Output Shape              Param #   \n",
      "=================================================================\n",
      " input_1 (InputLayer)        [(None, 1)]               0         \n",
      "                                                                 \n",
      " text_vectorization (TextVec  (None, 22)               0         \n",
      " torization)                                                     \n",
      "                                                                 \n",
      " embedding (Embedding)       (None, 22, 5)             113500    \n",
      "                                                                 \n",
      " lambda (Lambda)             (None, 5)                 0         \n",
      "                                                                 \n",
      " dense (Dense)               (None, 2)                 12        \n",
      "                                                                 \n",
      "=================================================================\n",
      "Total params: 113,512\n",
      "Trainable params: 113,512\n",
      "Non-trainable params: 0\n",
      "_________________________________________________________________\n"
     ]
    }
   ],
   "source": [
    "inputs = Input(shape=(1,),dtype=tf.string)\n",
    "x = preprocessing_layer(inputs)\n",
    "x = Embedding(VOCAB_SIZE+1,5,input_shape=[22],mask_zero=True)(x)\n",
    "# x= GRU(8)(x)\n",
    "x = Lambda(lambda x:tf.reduce_mean(x,axis=1))(x)\n",
    "# x = Dense\n",
    "outputs = Dense(2,activation=\"softmax\")(x)\n",
    "\n",
    "model = keras.Model(inputs=inputs,outputs=outputs,name=\"modeltest\")\n",
    "model.summary()\n",
    "model.compile(optimizer=tf.keras.optimizers.Adam(learning_rate=1e-3), loss=\"categorical_crossentropy\",metrics=[\"Accuracy\"])"
   ]
  },
  {
   "cell_type": "code",
   "execution_count": 9,
   "id": "95bf04c7-78a1-4c9a-b9ca-da485377df01",
   "metadata": {},
   "outputs": [],
   "source": [
    "# model = Sequential([\n",
    "#     Input(shape=(1,),dtype=tf.string),\n",
    "#     preprocessing_layer,\n",
    "#     Embedding(\n",
    "#             VOCAB_SIZE+1, 5, input_shape=[22], mask_zero=True\n",
    "#     ),\n",
    "#     #Lambda(lambda x:tf.reduce_mean(x,axis=1)),\n",
    "#     GRU(8),\n",
    "#     Dense(2,activation=\"softmax\")\n",
    "# ])\n",
    "# model.compile(optimizer=tf.keras.optimizers.Adam(learning_rate=1e-3), loss=\"categorical_crossentropy\",metrics=[\"Accuracy\"])"
   ]
  },
  {
   "cell_type": "code",
   "execution_count": 10,
   "id": "5bd7c681-8d07-42dc-820a-7e58c7f878c0",
   "metadata": {},
   "outputs": [
    {
     "name": "stdout",
     "output_type": "stream",
     "text": [
      "Epoch 1/50\n"
     ]
    },
    {
     "name": "stderr",
     "output_type": "stream",
     "text": [
      "2023-02-08 14:57:47.003825: I tensorflow/compiler/xla/service/service.cc:173] XLA service 0x5645e2ecb780 initialized for platform CUDA (this does not guarantee that XLA will be used). Devices:\n",
      "2023-02-08 14:57:47.003866: I tensorflow/compiler/xla/service/service.cc:181]   StreamExecutor device (0): Tesla T4, Compute Capability 7.5\n",
      "2023-02-08 14:57:47.009780: I tensorflow/compiler/mlir/tensorflow/utils/dump_mlir_util.cc:268] disabling MLIR crash reproducer, set env var `MLIR_CRASH_REPRODUCER_DIRECTORY` to enable.\n",
      "2023-02-08 14:57:47.166452: I tensorflow/compiler/jit/xla_compilation_cache.cc:477] Compiled cluster using XLA!  This line is logged at most once for the lifetime of the process.\n"
     ]
    },
    {
     "name": "stdout",
     "output_type": "stream",
     "text": [
      "120/120 [==============================] - 19s 137ms/step - loss: 0.6810 - Accuracy: 0.5603 - val_loss: 0.6663 - val_Accuracy: 0.5772\n",
      "Epoch 2/50\n",
      "120/120 [==============================] - 9s 69ms/step - loss: 0.6517 - Accuracy: 0.5890 - val_loss: 0.6387 - val_Accuracy: 0.6237\n",
      "Epoch 3/50\n",
      "120/120 [==============================] - 2s 19ms/step - loss: 0.6134 - Accuracy: 0.6735 - val_loss: 0.6049 - val_Accuracy: 0.6981\n",
      "Epoch 4/50\n",
      "120/120 [==============================] - 2s 14ms/step - loss: 0.5670 - Accuracy: 0.7602 - val_loss: 0.5698 - val_Accuracy: 0.7613\n",
      "Epoch 5/50\n",
      "120/120 [==============================] - 2s 18ms/step - loss: 0.5201 - Accuracy: 0.8092 - val_loss: 0.5390 - val_Accuracy: 0.7700\n",
      "Epoch 6/50\n",
      "120/120 [==============================] - 1s 12ms/step - loss: 0.4767 - Accuracy: 0.8370 - val_loss: 0.5141 - val_Accuracy: 0.7880\n",
      "Epoch 7/50\n",
      "120/120 [==============================] - 1s 8ms/step - loss: 0.4388 - Accuracy: 0.8503 - val_loss: 0.4949 - val_Accuracy: 0.7929\n",
      "Epoch 8/50\n",
      "120/120 [==============================] - 1s 5ms/step - loss: 0.4056 - Accuracy: 0.8618 - val_loss: 0.4803 - val_Accuracy: 0.8029\n",
      "Epoch 9/50\n",
      "120/120 [==============================] - 1s 7ms/step - loss: 0.3766 - Accuracy: 0.8733 - val_loss: 0.4698 - val_Accuracy: 0.8053\n",
      "Epoch 10/50\n",
      "120/120 [==============================] - 1s 11ms/step - loss: 0.3508 - Accuracy: 0.8845 - val_loss: 0.4600 - val_Accuracy: 0.8066\n",
      "Epoch 11/50\n",
      "120/120 [==============================] - 1s 9ms/step - loss: 0.3272 - Accuracy: 0.8950 - val_loss: 0.4535 - val_Accuracy: 0.8091\n",
      "Epoch 12/50\n",
      "120/120 [==============================] - 1s 12ms/step - loss: 0.3060 - Accuracy: 0.9003 - val_loss: 0.4490 - val_Accuracy: 0.8078\n",
      "Epoch 13/50\n",
      "120/120 [==============================] - 1s 8ms/step - loss: 0.2866 - Accuracy: 0.9102 - val_loss: 0.4447 - val_Accuracy: 0.8084\n",
      "Epoch 14/50\n",
      "120/120 [==============================] - 1s 9ms/step - loss: 0.2687 - Accuracy: 0.9165 - val_loss: 0.4426 - val_Accuracy: 0.8091\n",
      "Epoch 15/50\n",
      "120/120 [==============================] - 2s 15ms/step - loss: 0.2521 - Accuracy: 0.9230 - val_loss: 0.4406 - val_Accuracy: 0.8097\n",
      "Epoch 16/50\n",
      "120/120 [==============================] - 1s 7ms/step - loss: 0.2368 - Accuracy: 0.9275 - val_loss: 0.4398 - val_Accuracy: 0.8078\n",
      "Epoch 17/50\n",
      "120/120 [==============================] - 1s 10ms/step - loss: 0.2225 - Accuracy: 0.9338 - val_loss: 0.4398 - val_Accuracy: 0.8109\n",
      "Epoch 18/50\n",
      "120/120 [==============================] - 1s 10ms/step - loss: 0.2093 - Accuracy: 0.9390 - val_loss: 0.4403 - val_Accuracy: 0.8097\n",
      "Epoch 19/50\n",
      "120/120 [==============================] - 1s 5ms/step - loss: 0.1968 - Accuracy: 0.9438 - val_loss: 0.4415 - val_Accuracy: 0.8122\n",
      "Epoch 20/50\n",
      "120/120 [==============================] - 1s 9ms/step - loss: 0.1854 - Accuracy: 0.9485 - val_loss: 0.4445 - val_Accuracy: 0.8078\n",
      "Epoch 21/50\n",
      "120/120 [==============================] - 1s 5ms/step - loss: 0.1745 - Accuracy: 0.9525 - val_loss: 0.4453 - val_Accuracy: 0.8109\n",
      "Epoch 22/50\n",
      "120/120 [==============================] - 1s 6ms/step - loss: 0.1646 - Accuracy: 0.9557 - val_loss: 0.4474 - val_Accuracy: 0.8084\n",
      "Epoch 23/50\n",
      "120/120 [==============================] - 1s 5ms/step - loss: 0.1551 - Accuracy: 0.9575 - val_loss: 0.4526 - val_Accuracy: 0.8029\n",
      "Epoch 24/50\n",
      "120/120 [==============================] - 1s 6ms/step - loss: 0.1464 - Accuracy: 0.9610 - val_loss: 0.4551 - val_Accuracy: 0.8029\n",
      "Epoch 25/50\n",
      "120/120 [==============================] - 1s 6ms/step - loss: 0.1384 - Accuracy: 0.9640 - val_loss: 0.4568 - val_Accuracy: 0.8060\n",
      "Epoch 26/50\n",
      "120/120 [==============================] - 1s 9ms/step - loss: 0.1305 - Accuracy: 0.9660 - val_loss: 0.4619 - val_Accuracy: 0.8010\n",
      "Epoch 27/50\n",
      "120/120 [==============================] - 1s 5ms/step - loss: 0.1235 - Accuracy: 0.9683 - val_loss: 0.4653 - val_Accuracy: 0.8029\n",
      "Epoch 28/50\n",
      "120/120 [==============================] - 1s 6ms/step - loss: 0.1166 - Accuracy: 0.9705 - val_loss: 0.4705 - val_Accuracy: 0.7991\n",
      "Epoch 29/50\n",
      "120/120 [==============================] - 2s 14ms/step - loss: 0.1104 - Accuracy: 0.9732 - val_loss: 0.4733 - val_Accuracy: 0.8029\n",
      "Epoch 30/50\n",
      "120/120 [==============================] - 1s 6ms/step - loss: 0.1044 - Accuracy: 0.9742 - val_loss: 0.4781 - val_Accuracy: 0.8029\n",
      "Epoch 31/50\n",
      "120/120 [==============================] - 1s 6ms/step - loss: 0.0988 - Accuracy: 0.9757 - val_loss: 0.4824 - val_Accuracy: 0.8010\n",
      "Epoch 32/50\n",
      "120/120 [==============================] - 1s 9ms/step - loss: 0.0936 - Accuracy: 0.9772 - val_loss: 0.4869 - val_Accuracy: 0.8016\n",
      "Epoch 33/50\n",
      "120/120 [==============================] - 0s 4ms/step - loss: 0.0889 - Accuracy: 0.9775 - val_loss: 0.4930 - val_Accuracy: 0.7948\n",
      "Epoch 34/50\n",
      "120/120 [==============================] - 0s 4ms/step - loss: 0.0841 - Accuracy: 0.9802 - val_loss: 0.4977 - val_Accuracy: 0.7942\n",
      "Epoch 35/50\n",
      "120/120 [==============================] - 0s 4ms/step - loss: 0.0798 - Accuracy: 0.9810 - val_loss: 0.5039 - val_Accuracy: 0.7892\n",
      "Epoch 36/50\n",
      "120/120 [==============================] - 0s 4ms/step - loss: 0.0758 - Accuracy: 0.9835 - val_loss: 0.5089 - val_Accuracy: 0.7917\n",
      "Epoch 37/50\n",
      "120/120 [==============================] - 0s 4ms/step - loss: 0.0720 - Accuracy: 0.9842 - val_loss: 0.5147 - val_Accuracy: 0.7855\n",
      "Epoch 38/50\n",
      "120/120 [==============================] - 0s 4ms/step - loss: 0.0684 - Accuracy: 0.9860 - val_loss: 0.5196 - val_Accuracy: 0.7892\n",
      "Epoch 39/50\n",
      "120/120 [==============================] - 0s 4ms/step - loss: 0.0651 - Accuracy: 0.9868 - val_loss: 0.5253 - val_Accuracy: 0.7880\n",
      "Epoch 40/50\n",
      "120/120 [==============================] - 0s 4ms/step - loss: 0.0621 - Accuracy: 0.9870 - val_loss: 0.5326 - val_Accuracy: 0.7824\n",
      "Epoch 41/50\n",
      "120/120 [==============================] - 0s 4ms/step - loss: 0.0590 - Accuracy: 0.9892 - val_loss: 0.5377 - val_Accuracy: 0.7849\n",
      "Epoch 42/50\n",
      "120/120 [==============================] - 1s 5ms/step - loss: 0.0562 - Accuracy: 0.9892 - val_loss: 0.5442 - val_Accuracy: 0.7812\n",
      "Epoch 43/50\n",
      "120/120 [==============================] - 0s 4ms/step - loss: 0.0535 - Accuracy: 0.9897 - val_loss: 0.5511 - val_Accuracy: 0.7787\n",
      "Epoch 44/50\n",
      "120/120 [==============================] - 0s 4ms/step - loss: 0.0509 - Accuracy: 0.9902 - val_loss: 0.5564 - val_Accuracy: 0.7824\n",
      "Epoch 45/50\n",
      "120/120 [==============================] - 0s 4ms/step - loss: 0.0487 - Accuracy: 0.9903 - val_loss: 0.5636 - val_Accuracy: 0.7781\n",
      "Epoch 46/50\n",
      "120/120 [==============================] - 1s 5ms/step - loss: 0.0463 - Accuracy: 0.9915 - val_loss: 0.5701 - val_Accuracy: 0.7781\n",
      "Epoch 47/50\n",
      "120/120 [==============================] - 0s 4ms/step - loss: 0.0442 - Accuracy: 0.9913 - val_loss: 0.5765 - val_Accuracy: 0.7750\n",
      "Epoch 48/50\n",
      "120/120 [==============================] - 0s 4ms/step - loss: 0.0423 - Accuracy: 0.9915 - val_loss: 0.5831 - val_Accuracy: 0.7762\n",
      "Epoch 49/50\n",
      "120/120 [==============================] - 0s 4ms/step - loss: 0.0404 - Accuracy: 0.9927 - val_loss: 0.5901 - val_Accuracy: 0.7762\n",
      "Epoch 50/50\n",
      "120/120 [==============================] - 0s 4ms/step - loss: 0.0387 - Accuracy: 0.9927 - val_loss: 0.5964 - val_Accuracy: 0.7743\n"
     ]
    }
   ],
   "source": [
    "modelhistory = model.fit(\n",
    "    data.text[:6000],\n",
    "    target[:6000], \n",
    "    epochs=50,\n",
    "    batch_size=50, \n",
    "    validation_data=(data.text[6000:],target[6000:]),\n",
    "    # callbacks=[EarlyStopping(patience=10)]\n",
    ")"
   ]
  },
  {
   "cell_type": "code",
   "execution_count": 11,
   "id": "bd3204c6-cfb7-4dde-b784-0741dae0c994",
   "metadata": {},
   "outputs": [
    {
     "data": {
      "text/plain": [
       "<AxesSubplot:>"
      ]
     },
     "execution_count": 11,
     "metadata": {},
     "output_type": "execute_result"
    },
    {
     "data": {
      "image/png": "[encoded data removed]",
      "text/plain": [
       "<Figure size 640x480 with 1 Axes>"
      ]
     },
     "metadata": {},
     "output_type": "display_data"
    },
    {
     "data": {
      "image/png": "[encoded data removed]",
      "text/plain": [
       "<Figure size 640x480 with 1 Axes>"
      ]
     },
     "metadata": {},
     "output_type": "display_data"
    }
   ],
   "source": [
    "pd.DataFrame(modelhistory.history)[[\"loss\",\"val_loss\"]].plot()\n",
    "pd.DataFrame(modelhistory.history)[[\"Accuracy\",\"val_Accuracy\"]].plot()"
   ]
  },
  {
   "cell_type": "code",
   "execution_count": 12,
   "id": "82bffd80-97ad-49aa-bdd4-6e39e320559a",
   "metadata": {},
   "outputs": [
    {
     "name": "stdout",
     "output_type": "stream",
     "text": [
      "1/1 [==============================] - 0s 109ms/step\n"
     ]
    },
    {
     "data": {
      "text/plain": [
       "array([[0.21493438, 0.7850656 ],\n",
       "       [0.00585568, 0.9941444 ]], dtype=float32)"
      ]
     },
     "execution_count": 12,
     "metadata": {},
     "output_type": "execute_result"
    }
   ],
   "source": [
    "model.predict(data.text[:2])"
   ]
  }
 ],
 "metadata": {
  "environment": {
   "kernel": "python3",
   "name": "tf2-gpu.2-8.m102",
   "type": "gcloud",
   "uri": "gcr.io/deeplearning-platform-release/tf2-gpu.2-8:m102"
  },
  "kernelspec": {
   "display_name": "Python 3 (ipykernel)",
   "language": "python",
   "name": "python3"
  },
  "language_info": {
   "codemirror_mode": {
    "name": "ipython",
    "version": 3
   },
   "file_extension": ".py",
   "mimetype": "text/x-python",
   "name": "python",
   "nbconvert_exporter": "python",
   "pygments_lexer": "ipython3",
   "version": "3.7.12"
  }
 },
 "nbformat": 4,
 "nbformat_minor": 5
}
