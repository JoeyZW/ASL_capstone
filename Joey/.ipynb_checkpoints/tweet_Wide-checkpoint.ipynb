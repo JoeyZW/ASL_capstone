{
 "cells": [
  {
   "cell_type": "code",
   "execution_count": 1,
   "id": "4afba91a-a380-4937-b962-105c3e9664f1",
   "metadata": {},
   "outputs": [
    {
     "name": "stderr",
     "output_type": "stream",
     "text": [
      "2023-02-08 14:57:00.536315: I tensorflow/core/platform/cpu_feature_guard.cc:193] This TensorFlow binary is optimized with oneAPI Deep Neural Network Library (oneDNN) to use the following CPU instructions in performance-critical operations:  AVX2 FMA\n",
      "To enable them in other operations, rebuild TensorFlow with the appropriate compiler flags.\n",
      "2023-02-08 14:57:01.375148: W tensorflow/compiler/xla/stream_executor/platform/default/dso_loader.cc:64] Could not load dynamic library 'libnvinfer.so.7'; dlerror: libnvinfer.so.7: cannot open shared object file: No such file or directory; LD_LIBRARY_PATH: /usr/local/cuda/lib64:/usr/local/nccl2/lib:/usr/local/cuda/extras/CUPTI/lib64\n",
      "2023-02-08 14:57:01.375245: W tensorflow/compiler/xla/stream_executor/platform/default/dso_loader.cc:64] Could not load dynamic library 'libnvinfer_plugin.so.7'; dlerror: libnvinfer_plugin.so.7: cannot open shared object file: No such file or directory; LD_LIBRARY_PATH: /usr/local/cuda/lib64:/usr/local/nccl2/lib:/usr/local/cuda/extras/CUPTI/lib64\n",
      "2023-02-08 14:57:01.375255: W tensorflow/compiler/tf2tensorrt/utils/py_utils.cc:38] TF-TRT Warning: Cannot dlopen some TensorRT libraries. If you would like to use Nvidia GPU with TensorRT, please make sure the missing libraries mentioned above are installed properly.\n"
     ]
    },
    {
     "name": "stdout",
     "output_type": "stream",
     "text": [
      "2.11.0\n"
     ]
    }
   ],
   "source": [
    "import os\n",
    "import shutil\n",
    "\n",
    "import pandas as pd\n",
    "import tensorflow as tf\n",
    "import numpy as np\n",
    "import keras\n",
    "from keras import Input\n",
    "from keras.layers import TextVectorization\n",
    "from tensorflow.keras.callbacks import EarlyStopping, TensorBoard\n",
    "from tensorflow.keras.layers import (\n",
    "    GRU,\n",
    "    Conv1D,\n",
    "    Dense,\n",
    "    Embedding,\n",
    "    Flatten,\n",
    "    Lambda,\n",
    ")\n",
    "from tensorflow.keras.models import Sequential\n",
    "from tensorflow.keras.utils import to_categorical\n",
    "\n",
    "print(tf.__version__)"
   ]
  },
  {
   "cell_type": "code",
   "execution_count": 2,
   "id": "c1f383da-c848-4ee5-93f2-01975134b723",
   "metadata": {},
   "outputs": [],
   "source": [
    "#read data\n",
    "data = pd.read_csv(\"./data/train.csv\")\n",
    "#shuffle data\n",
    "data = data.sample(frac=1)\n",
    "\n",
    "#print data\n",
    "#data.head(10)\n",
    "#data[\"keyword\"].unique()"
   ]
  },
  {
   "cell_type": "code",
   "execution_count": 3,
   "id": "1d57dfb8-6507-4727-b555-33d812ee8583",
   "metadata": {},
   "outputs": [
    {
     "data": {
      "text/plain": [
       "array([1., 0.], dtype=float32)"
      ]
     },
     "execution_count": 3,
     "metadata": {},
     "output_type": "execute_result"
    }
   ],
   "source": [
    "#one hot encode target\n",
    "classes = [[0,1][source] for source in data.target]\n",
    "target = to_categorical(classes)\n",
    "#print target\n",
    "target[10]"
   ]
  },
  {
   "cell_type": "code",
   "execution_count": 4,
   "id": "55656c08-3030-4a56-b36d-acaa247901a2",
   "metadata": {},
   "outputs": [
    {
     "name": "stderr",
     "output_type": "stream",
     "text": [
      "2023-02-08 14:57:02.605863: I tensorflow/compiler/xla/stream_executor/cuda/cuda_gpu_executor.cc:981] successful NUMA node read from SysFS had negative value (-1), but there must be at least one NUMA node, so returning NUMA node zero\n",
      "2023-02-08 14:57:02.621081: I tensorflow/compiler/xla/stream_executor/cuda/cuda_gpu_executor.cc:981] successful NUMA node read from SysFS had negative value (-1), but there must be at least one NUMA node, so returning NUMA node zero\n",
      "2023-02-08 14:57:02.623051: I tensorflow/compiler/xla/stream_executor/cuda/cuda_gpu_executor.cc:981] successful NUMA node read from SysFS had negative value (-1), but there must be at least one NUMA node, so returning NUMA node zero\n",
      "2023-02-08 14:57:02.626457: I tensorflow/core/platform/cpu_feature_guard.cc:193] This TensorFlow binary is optimized with oneAPI Deep Neural Network Library (oneDNN) to use the following CPU instructions in performance-critical operations:  AVX2 FMA\n",
      "To enable them in other operations, rebuild TensorFlow with the appropriate compiler flags.\n",
      "2023-02-08 14:57:02.626923: I tensorflow/compiler/xla/stream_executor/cuda/cuda_gpu_executor.cc:981] successful NUMA node read from SysFS had negative value (-1), but there must be at least one NUMA node, so returning NUMA node zero\n",
      "2023-02-08 14:57:02.628887: I tensorflow/compiler/xla/stream_executor/cuda/cuda_gpu_executor.cc:981] successful NUMA node read from SysFS had negative value (-1), but there must be at least one NUMA node, so returning NUMA node zero\n",
      "2023-02-08 14:57:02.630845: I tensorflow/compiler/xla/stream_executor/cuda/cuda_gpu_executor.cc:981] successful NUMA node read from SysFS had negative value (-1), but there must be at least one NUMA node, so returning NUMA node zero\n",
      "2023-02-08 14:57:03.656681: I tensorflow/compiler/xla/stream_executor/cuda/cuda_gpu_executor.cc:981] successful NUMA node read from SysFS had negative value (-1), but there must be at least one NUMA node, so returning NUMA node zero\n",
      "2023-02-08 14:57:03.658915: I tensorflow/compiler/xla/stream_executor/cuda/cuda_gpu_executor.cc:981] successful NUMA node read from SysFS had negative value (-1), but there must be at least one NUMA node, so returning NUMA node zero\n",
      "2023-02-08 14:57:03.660762: I tensorflow/compiler/xla/stream_executor/cuda/cuda_gpu_executor.cc:981] successful NUMA node read from SysFS had negative value (-1), but there must be at least one NUMA node, so returning NUMA node zero\n",
      "2023-02-08 14:57:03.662548: I tensorflow/core/common_runtime/gpu/gpu_device.cc:1613] Created device /job:localhost/replica:0/task:0/device:GPU:0 with 13037 MB memory:  -> device: 0, name: Tesla T4, pci bus id: 0000:00:04.0, compute capability: 7.5\n"
     ]
    }
   ],
   "source": [
    "MAX_LEN = 22\n",
    "MAX_TOKENS = 100000\n",
    "\n",
    "preprocessing_layer = TextVectorization(\n",
    "    output_sequence_length=MAX_LEN, \n",
    "    max_tokens=MAX_TOKENS\n",
    "    #, vocabulary = np.array([\"Our\",\"are\", \"in\"])\n",
    ")"
   ]
  },
  {
   "cell_type": "code",
   "execution_count": 5,
   "id": "646cb946-9c08-4594-8613-da7460f75a80",
   "metadata": {},
   "outputs": [],
   "source": [
    "preprocessing_layer.adapt(data.text)\n"
   ]
  },
  {
   "cell_type": "code",
   "execution_count": 6,
   "id": "e8a1c1c0-6b75-451c-a351-834da399c03c",
   "metadata": {},
   "outputs": [
    {
     "data": {
      "text/plain": [
       "<tf.Tensor: shape=(10, 22), dtype=int64, numpy=\n",
       "array([[   31,    50,    16,  2039,  2595,    44,   518,    13,  3318,\n",
       "         5431,    86,     5,     2, 18039,  2595,  6626,   493,   135,\n",
       "          452,     9,   145,   436],\n",
       "       [   58,  1553,  1629,   295,   488,   434,    38,  1865,  1983,\n",
       "            7,   979,   143,   625,   133,  1942, 13599,     0,     0,\n",
       "            0,     0,     0,     0],\n",
       "       [  321,   700,   267,    26,    20,   158,   247,   173,   401,\n",
       "            7,     2,   126,     6,   170,    65,    68, 16207,     0,\n",
       "            0,     0,     0,     0],\n",
       "       [  946,     4,  1046,  1338,  1536,   463,   251,   233,    11,\n",
       "          486,   380,  1530,   336,   131,   946,    11,  1123,  1682,\n",
       "         1536,   832,     0,     0],\n",
       "       [  633,   201,   317,   664,   537,    89,   195,    65,   551,\n",
       "          105,     4,   610,   162,   763, 15751, 15582,     0,     0,\n",
       "            0,     0,     0,     0],\n",
       "       [   61,   492,  1503,   842,  2446,   114,     2,  2945,  4994,\n",
       "         1757,     2,  3267,     6,  5072,   736,     2,  1963,   590,\n",
       "            4,     2,  9636, 15786],\n",
       "       [    2, 18903,   417,     8,    67,    10, 18360,    29,    95,\n",
       "         8921,     4,     3,   407,   104,    10, 10714,     7,  8367,\n",
       "         1714,  5462,     0,     0],\n",
       "       [10045,   100,  8455,  1296,  2808,     5,  3961,   250,  1022,\n",
       "           17,   225,     7,  1100,  7315,  3722, 13401,  1621,    40,\n",
       "         8138,     0,     0,     0],\n",
       "       [21115,    31,   383,    15,  1482,     8,   102,   747,  3741,\n",
       "         2142,     0,     0,     0,     0,     0,     0,     0,     0,\n",
       "            0,     0,     0,     0],\n",
       "       [  327, 11415,    55,     9,  8109,  1643,   277,   239,     3,\n",
       "          657,     9,  2284,  7729, 16057,     0,     0,     0,     0,\n",
       "            0,     0,     0,     0]])>"
      ]
     },
     "execution_count": 6,
     "metadata": {},
     "output_type": "execute_result"
    }
   ],
   "source": [
    "preprocessing_layer(data.text[:10])"
   ]
  },
  {
   "cell_type": "code",
   "execution_count": 7,
   "id": "70c2ff81-53be-44c5-9f6a-163184769d8b",
   "metadata": {},
   "outputs": [
    {
     "data": {
      "text/plain": [
       "22699"
      ]
     },
     "execution_count": 7,
     "metadata": {},
     "output_type": "execute_result"
    }
   ],
   "source": [
    "VOCAB_SIZE = len(preprocessing_layer.get_vocabulary())\n",
    "VOCAB_SIZE"
   ]
  },
  {
   "cell_type": "code",
   "execution_count": 15,
   "id": "7253e318-71fb-4873-97d0-be6bc658d974",
   "metadata": {},
   "outputs": [
    {
     "name": "stdout",
     "output_type": "stream",
     "text": [
      "Model: \"modeltest\"\n",
      "_________________________________________________________________\n",
      " Layer (type)                Output Shape              Param #   \n",
      "=================================================================\n",
      " input_2 (InputLayer)        [(None, 1)]               0         \n",
      "                                                                 \n",
      " text_vectorization (TextVec  (None, 22)               0         \n",
      " torization)                                                     \n",
      "                                                                 \n",
      " embedding_1 (Embedding)     (None, 22, 5)             113500    \n",
      "                                                                 \n",
      " gru_1 (GRU)                 (None, 4)                 132       \n",
      "                                                                 \n",
      " dense_1 (Dense)             (None, 2)                 10        \n",
      "                                                                 \n",
      "=================================================================\n",
      "Total params: 113,642\n",
      "Trainable params: 113,642\n",
      "Non-trainable params: 0\n",
      "_________________________________________________________________\n"
     ]
    }
   ],
   "source": [
    "inputs = Input(shape=(1,),dtype=tf.string)\n",
    "x = preprocessing_layer(inputs)\n",
    "x = Embedding(VOCAB_SIZE+1,5,input_shape=[22],mask_zero=True)(x)\n",
    "x= GRU(4)(x)\n",
    "outputs = Dense(2,activation=\"softmax\")(x)\n",
    "\n",
    "model = keras.Model(inputs=inputs,outputs=outputs,name=\"modeltest\")\n",
    "model.summary()\n",
    "model.compile(optimizer=tf.keras.optimizers.Adam(learning_rate=1e-3), loss=\"categorical_crossentropy\",metrics=[\"Accuracy\"])"
   ]
  },
  {
   "cell_type": "code",
   "execution_count": 16,
   "id": "95bf04c7-78a1-4c9a-b9ca-da485377df01",
   "metadata": {},
   "outputs": [],
   "source": [
    "# model = Sequential([\n",
    "#     Input(shape=(1,),dtype=tf.string),\n",
    "#     preprocessing_layer,\n",
    "#     Embedding(\n",
    "#             VOCAB_SIZE+1, 5, input_shape=[22], mask_zero=True\n",
    "#     ),\n",
    "#     #Lambda(lambda x:tf.reduce_mean(x,axis=1)),\n",
    "#     GRU(8),\n",
    "#     Dense(2,activation=\"softmax\")\n",
    "# ])\n",
    "# model.compile(optimizer=tf.keras.optimizers.Adam(learning_rate=1e-3), loss=\"categorical_crossentropy\",metrics=[\"Accuracy\"])"
   ]
  },
  {
   "cell_type": "code",
   "execution_count": 17,
   "id": "5bd7c681-8d07-42dc-820a-7e58c7f878c0",
   "metadata": {},
   "outputs": [
    {
     "name": "stdout",
     "output_type": "stream",
     "text": [
      "Epoch 1/50\n",
      "120/120 [==============================] - 13s 75ms/step - loss: 0.6837 - Accuracy: 0.5685 - val_loss: 0.6798 - val_Accuracy: 0.5642\n",
      "Epoch 2/50\n",
      "120/120 [==============================] - 3s 23ms/step - loss: 0.6428 - Accuracy: 0.5980 - val_loss: 0.6260 - val_Accuracy: 0.6795\n",
      "Epoch 3/50\n",
      "120/120 [==============================] - 2s 17ms/step - loss: 0.4267 - Accuracy: 0.8453 - val_loss: 0.4946 - val_Accuracy: 0.7793\n",
      "Epoch 4/50\n",
      "120/120 [==============================] - 1s 12ms/step - loss: 0.2409 - Accuracy: 0.9095 - val_loss: 0.5338 - val_Accuracy: 0.7452\n",
      "Epoch 5/50\n",
      "120/120 [==============================] - 2s 13ms/step - loss: 0.1442 - Accuracy: 0.9493 - val_loss: 0.5600 - val_Accuracy: 0.7657\n",
      "Epoch 6/50\n",
      "120/120 [==============================] - 1s 12ms/step - loss: 0.0871 - Accuracy: 0.9740 - val_loss: 0.6511 - val_Accuracy: 0.7471\n",
      "Epoch 7/50\n",
      "120/120 [==============================] - 1s 11ms/step - loss: 0.0547 - Accuracy: 0.9843 - val_loss: 0.7056 - val_Accuracy: 0.7508\n",
      "Epoch 8/50\n",
      "120/120 [==============================] - 1s 11ms/step - loss: 0.0388 - Accuracy: 0.9892 - val_loss: 0.7638 - val_Accuracy: 0.7514\n",
      "Epoch 9/50\n",
      "120/120 [==============================] - 1s 10ms/step - loss: 0.0281 - Accuracy: 0.9932 - val_loss: 0.8260 - val_Accuracy: 0.7502\n",
      "Epoch 10/50\n",
      "120/120 [==============================] - 1s 10ms/step - loss: 0.0225 - Accuracy: 0.9938 - val_loss: 0.8757 - val_Accuracy: 0.7446\n",
      "Epoch 11/50\n",
      "120/120 [==============================] - 1s 8ms/step - loss: 0.0180 - Accuracy: 0.9945 - val_loss: 0.9560 - val_Accuracy: 0.7440\n",
      "Epoch 12/50\n",
      "120/120 [==============================] - 1s 10ms/step - loss: 0.0157 - Accuracy: 0.9952 - val_loss: 0.9638 - val_Accuracy: 0.7508\n",
      "Epoch 13/50\n",
      "120/120 [==============================] - 1s 10ms/step - loss: 0.0151 - Accuracy: 0.9943 - val_loss: 0.9794 - val_Accuracy: 0.7471\n",
      "Epoch 14/50\n",
      "120/120 [==============================] - 1s 9ms/step - loss: 0.0126 - Accuracy: 0.9955 - val_loss: 1.0381 - val_Accuracy: 0.7433\n",
      "Epoch 15/50\n",
      "120/120 [==============================] - 1s 8ms/step - loss: 0.0113 - Accuracy: 0.9960 - val_loss: 1.0633 - val_Accuracy: 0.7446\n",
      "Epoch 16/50\n",
      "120/120 [==============================] - 1s 11ms/step - loss: 0.0122 - Accuracy: 0.9960 - val_loss: 1.1144 - val_Accuracy: 0.7427\n",
      "Epoch 17/50\n",
      "120/120 [==============================] - 1s 9ms/step - loss: 0.0104 - Accuracy: 0.9958 - val_loss: 1.0820 - val_Accuracy: 0.7477\n",
      "Epoch 18/50\n",
      "120/120 [==============================] - 1s 9ms/step - loss: 0.0103 - Accuracy: 0.9960 - val_loss: 1.1156 - val_Accuracy: 0.7415\n",
      "Epoch 19/50\n",
      "120/120 [==============================] - 1s 10ms/step - loss: 0.0096 - Accuracy: 0.9953 - val_loss: 1.1187 - val_Accuracy: 0.7495\n",
      "Epoch 20/50\n",
      "120/120 [==============================] - 1s 8ms/step - loss: 0.0099 - Accuracy: 0.9960 - val_loss: 1.1325 - val_Accuracy: 0.7502\n",
      "Epoch 21/50\n",
      "120/120 [==============================] - 2s 20ms/step - loss: 0.0091 - Accuracy: 0.9955 - val_loss: 1.1584 - val_Accuracy: 0.7464\n",
      "Epoch 22/50\n",
      "120/120 [==============================] - 2s 16ms/step - loss: 0.0090 - Accuracy: 0.9960 - val_loss: 1.2099 - val_Accuracy: 0.7427\n",
      "Epoch 23/50\n",
      "120/120 [==============================] - 1s 10ms/step - loss: 0.0082 - Accuracy: 0.9962 - val_loss: 1.2301 - val_Accuracy: 0.7384\n",
      "Epoch 24/50\n",
      "120/120 [==============================] - 1s 9ms/step - loss: 0.0082 - Accuracy: 0.9957 - val_loss: 1.2343 - val_Accuracy: 0.7371\n",
      "Epoch 25/50\n",
      "120/120 [==============================] - 1s 9ms/step - loss: 0.0085 - Accuracy: 0.9965 - val_loss: 1.2989 - val_Accuracy: 0.7409\n",
      "Epoch 26/50\n",
      "120/120 [==============================] - 1s 10ms/step - loss: 0.0085 - Accuracy: 0.9960 - val_loss: 1.2212 - val_Accuracy: 0.7502\n",
      "Epoch 27/50\n",
      "120/120 [==============================] - 1s 8ms/step - loss: 0.0082 - Accuracy: 0.9957 - val_loss: 1.2731 - val_Accuracy: 0.7353\n",
      "Epoch 28/50\n",
      "120/120 [==============================] - 1s 11ms/step - loss: 0.0082 - Accuracy: 0.9963 - val_loss: 1.2154 - val_Accuracy: 0.7471\n",
      "Epoch 29/50\n",
      "120/120 [==============================] - 1s 9ms/step - loss: 0.0083 - Accuracy: 0.9960 - val_loss: 1.3242 - val_Accuracy: 0.7316\n",
      "Epoch 30/50\n",
      "120/120 [==============================] - 1s 9ms/step - loss: 0.0079 - Accuracy: 0.9957 - val_loss: 1.2761 - val_Accuracy: 0.7452\n",
      "Epoch 31/50\n",
      "120/120 [==============================] - 1s 8ms/step - loss: 0.0087 - Accuracy: 0.9958 - val_loss: 1.3374 - val_Accuracy: 0.7359\n",
      "Epoch 32/50\n",
      "120/120 [==============================] - 1s 8ms/step - loss: 0.0083 - Accuracy: 0.9965 - val_loss: 1.2499 - val_Accuracy: 0.7489\n",
      "Epoch 33/50\n",
      "120/120 [==============================] - 1s 8ms/step - loss: 0.0082 - Accuracy: 0.9958 - val_loss: 1.3168 - val_Accuracy: 0.7390\n",
      "Epoch 34/50\n",
      "120/120 [==============================] - 1s 8ms/step - loss: 0.0078 - Accuracy: 0.9957 - val_loss: 1.3412 - val_Accuracy: 0.7303\n",
      "Epoch 35/50\n",
      "120/120 [==============================] - 1s 8ms/step - loss: 0.0078 - Accuracy: 0.9957 - val_loss: 1.3332 - val_Accuracy: 0.7347\n",
      "Epoch 36/50\n",
      "120/120 [==============================] - 1s 8ms/step - loss: 0.0075 - Accuracy: 0.9963 - val_loss: 1.3595 - val_Accuracy: 0.7316\n",
      "Epoch 37/50\n",
      "120/120 [==============================] - 1s 9ms/step - loss: 0.0075 - Accuracy: 0.9963 - val_loss: 1.3683 - val_Accuracy: 0.7421\n",
      "Epoch 38/50\n",
      "120/120 [==============================] - 1s 9ms/step - loss: 0.0077 - Accuracy: 0.9963 - val_loss: 1.3468 - val_Accuracy: 0.7328\n",
      "Epoch 39/50\n",
      "120/120 [==============================] - 1s 8ms/step - loss: 0.0072 - Accuracy: 0.9960 - val_loss: 1.3330 - val_Accuracy: 0.7378\n",
      "Epoch 40/50\n",
      "120/120 [==============================] - 1s 10ms/step - loss: 0.0070 - Accuracy: 0.9962 - val_loss: 1.3647 - val_Accuracy: 0.7316\n",
      "Epoch 41/50\n",
      "120/120 [==============================] - 1s 8ms/step - loss: 0.0074 - Accuracy: 0.9960 - val_loss: 1.4378 - val_Accuracy: 0.7309\n",
      "Epoch 42/50\n",
      "120/120 [==============================] - 1s 8ms/step - loss: 0.0074 - Accuracy: 0.9967 - val_loss: 1.3364 - val_Accuracy: 0.7427\n",
      "Epoch 43/50\n",
      "120/120 [==============================] - 1s 9ms/step - loss: 0.0092 - Accuracy: 0.9957 - val_loss: 1.3419 - val_Accuracy: 0.7390\n",
      "Epoch 44/50\n",
      "120/120 [==============================] - 1s 8ms/step - loss: 0.0070 - Accuracy: 0.9963 - val_loss: 1.3517 - val_Accuracy: 0.7415\n",
      "Epoch 45/50\n",
      "120/120 [==============================] - 1s 8ms/step - loss: 0.0074 - Accuracy: 0.9957 - val_loss: 1.4090 - val_Accuracy: 0.7409\n",
      "Epoch 46/50\n",
      "120/120 [==============================] - 1s 8ms/step - loss: 0.0067 - Accuracy: 0.9968 - val_loss: 1.3684 - val_Accuracy: 0.7334\n",
      "Epoch 47/50\n",
      "120/120 [==============================] - 1s 8ms/step - loss: 0.0071 - Accuracy: 0.9960 - val_loss: 1.4225 - val_Accuracy: 0.7433\n",
      "Epoch 48/50\n",
      "120/120 [==============================] - 1s 8ms/step - loss: 0.0073 - Accuracy: 0.9957 - val_loss: 1.4303 - val_Accuracy: 0.7291\n",
      "Epoch 49/50\n",
      "120/120 [==============================] - 1s 9ms/step - loss: 0.0069 - Accuracy: 0.9958 - val_loss: 1.3472 - val_Accuracy: 0.7409\n",
      "Epoch 50/50\n",
      "120/120 [==============================] - 1s 8ms/step - loss: 0.0081 - Accuracy: 0.9955 - val_loss: 1.3053 - val_Accuracy: 0.7421\n"
     ]
    }
   ],
   "source": [
    "modelhistory = model.fit(\n",
    "    data.text[:6000],\n",
    "    target[:6000], \n",
    "    epochs=50,\n",
    "    batch_size=50, \n",
    "    validation_data=(data.text[6000:],target[6000:]),\n",
    "    # callbacks=[EarlyStopping(patience=10)]\n",
    ")"
   ]
  },
  {
   "cell_type": "code",
   "execution_count": 18,
   "id": "bd3204c6-cfb7-4dde-b784-0741dae0c994",
   "metadata": {},
   "outputs": [
    {
     "data": {
      "text/plain": [
       "<AxesSubplot:>"
      ]
     },
     "execution_count": 18,
     "metadata": {},
     "output_type": "execute_result"
    },
    {
     "data": {
      "image/png": "[encoded data removed]",
      "text/plain": [
       "<Figure size 640x480 with 1 Axes>"
      ]
     },
     "metadata": {},
     "output_type": "display_data"
    },
    {
     "data": {
      "image/png": "[encoded data removed]",
      "text/plain": [
       "<Figure size 640x480 with 1 Axes>"
      ]
     },
     "metadata": {},
     "output_type": "display_data"
    }
   ],
   "source": [
    "pd.DataFrame(modelhistory.history)[[\"loss\",\"val_loss\"]].plot()\n",
    "pd.DataFrame(modelhistory.history)[[\"Accuracy\",\"val_Accuracy\"]].plot()"
   ]
  },
  {
   "cell_type": "code",
   "execution_count": 19,
   "id": "ec81ab75-5761-45a2-b2f6-3bd01c5f68d8",
   "metadata": {},
   "outputs": [
    {
     "data": {
      "text/plain": [
       "<AxesSubplot:>"
      ]
     },
     "execution_count": 19,
     "metadata": {},
     "output_type": "execute_result"
    },
    {
     "data": {
      "image/png": "[encoded data removed]",
      "text/plain": [
       "<Figure size 640x480 with 1 Axes>"
      ]
     },
     "metadata": {},
     "output_type": "display_data"
    }
   ],
   "source": [
    "pd.DataFrame(modelhistory.history)[[\"loss\",\"val_loss\"]][:10].plot()"
   ]
  },
  {
   "cell_type": "code",
   "execution_count": 20,
   "id": "82bffd80-97ad-49aa-bdd4-6e39e320559a",
   "metadata": {},
   "outputs": [
    {
     "name": "stdout",
     "output_type": "stream",
     "text": [
      "1/1 [==============================] - 1s 1s/step\n"
     ]
    },
    {
     "data": {
      "text/plain": [
       "array([[0.99805546, 0.00194453]], dtype=float32)"
      ]
     },
     "execution_count": 20,
     "metadata": {},
     "output_type": "execute_result"
    }
   ],
   "source": [
    "model.predict(data.text[7000:7001])"
   ]
  },
  {
   "cell_type": "code",
   "execution_count": 21,
   "id": "653f794b-e41b-4e63-86d2-2ff82fed5304",
   "metadata": {},
   "outputs": [
    {
     "data": {
      "text/plain": [
       "1265    I should probably stay away from hot glue guns...\n",
       "Name: text, dtype: object"
      ]
     },
     "execution_count": 21,
     "metadata": {},
     "output_type": "execute_result"
    }
   ],
   "source": [
    "data.text[7000:7001]"
   ]
  }
 ],
 "metadata": {
  "environment": {
   "kernel": "python3",
   "name": "tf2-gpu.2-8.m102",
   "type": "gcloud",
   "uri": "gcr.io/deeplearning-platform-release/tf2-gpu.2-8:m102"
  },
  "kernelspec": {
   "display_name": "Python 3 (ipykernel)",
   "language": "python",
   "name": "python3"
  },
  "language_info": {
   "codemirror_mode": {
    "name": "ipython",
    "version": 3
   },
   "file_extension": ".py",
   "mimetype": "text/x-python",
   "name": "python",
   "nbconvert_exporter": "python",
   "pygments_lexer": "ipython3",
   "version": "3.7.12"
  }
 },
 "nbformat": 4,
 "nbformat_minor": 5
}
