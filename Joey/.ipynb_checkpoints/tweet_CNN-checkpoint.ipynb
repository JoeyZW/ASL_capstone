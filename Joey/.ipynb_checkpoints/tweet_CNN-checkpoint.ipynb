{
 "cells": [
  {
   "cell_type": "code",
   "execution_count": null,
   "id": "4afba91a-a380-4937-b962-105c3e9664f1",
   "metadata": {},
   "outputs": [],
   "source": [
    "import os\n",
    "import shutil\n",
    "\n",
    "import pandas as pd\n",
    "import tensorflow as tf\n",
    "import numpy as np\n",
    "import keras\n",
    "from keras import Input\n",
    "from keras.layers import TextVectorization\n",
    "from tensorflow.keras.callbacks import EarlyStopping, TensorBoard\n",
    "from tensorflow.keras.layers import (\n",
    "    GRU,\n",
    "    Conv1D,\n",
    "    Dense,\n",
    "    Embedding,\n",
    "    Flatten,\n",
    "    Lambda,\n",
    ")\n",
    "from tensorflow.keras.models import Sequential\n",
    "from tensorflow.keras.utils import to_categorical\n",
    "\n",
    "print(tf.__version__)"
   ]
  },
  {
   "cell_type": "code",
   "execution_count": null,
   "id": "c1f383da-c848-4ee5-93f2-01975134b723",
   "metadata": {},
   "outputs": [],
   "source": [
    "#read data\n",
    "data = pd.read_csv(\"./data/train.csv\")\n",
    "#shuffle data\n",
    "data = data.sample(frac=1)\n",
    "\n",
    "#print data\n",
    "#data.head(10)\n",
    "#data[\"keyword\"].unique()"
   ]
  },
  {
   "cell_type": "code",
   "execution_count": null,
   "id": "1d57dfb8-6507-4727-b555-33d812ee8583",
   "metadata": {},
   "outputs": [],
   "source": [
    "#one hot encode target\n",
    "classes = [[0,1][source] for source in data.target]\n",
    "target = to_categorical(classes)\n",
    "#print target\n",
    "target[10]"
   ]
  },
  {
   "cell_type": "code",
   "execution_count": null,
   "id": "55656c08-3030-4a56-b36d-acaa247901a2",
   "metadata": {},
   "outputs": [],
   "source": [
    "MAX_LEN = 22\n",
    "MAX_TOKENS = 100000\n",
    "\n",
    "preprocessing_layer = TextVectorization(\n",
    "    output_sequence_length=MAX_LEN, \n",
    "    max_tokens=MAX_TOKENS\n",
    "    #, vocabulary = np.array([\"Our\",\"are\", \"in\"])\n",
    ")"
   ]
  },
  {
   "cell_type": "code",
   "execution_count": null,
   "id": "646cb946-9c08-4594-8613-da7460f75a80",
   "metadata": {},
   "outputs": [],
   "source": [
    "preprocessing_layer.adapt(data.text)\n"
   ]
  },
  {
   "cell_type": "code",
   "execution_count": null,
   "id": "e8a1c1c0-6b75-451c-a351-834da399c03c",
   "metadata": {},
   "outputs": [],
   "source": [
    "preprocessing_layer(data.text[:10])"
   ]
  },
  {
   "cell_type": "code",
   "execution_count": null,
   "id": "70c2ff81-53be-44c5-9f6a-163184769d8b",
   "metadata": {},
   "outputs": [],
   "source": [
    "VOCAB_SIZE = len(preprocessing_layer.get_vocabulary())\n",
    "VOCAB_SIZE"
   ]
  },
  {
   "cell_type": "code",
   "execution_count": null,
   "id": "7253e318-71fb-4873-97d0-be6bc658d974",
   "metadata": {},
   "outputs": [],
   "source": [
    "inputs = Input(shape=(1,),dtype=tf.string)\n",
    "x = preprocessing_layer(inputs)\n",
    "x = Embedding(VOCAB_SIZE+1,5,input_shape=[22],mask_zero=True)(x)\n",
    "x= GRU(8)(x)\n",
    "outputs = Dense(2,activation=\"softmax\")(x)\n",
    "\n",
    "model = keras.Model(inputs=inputs,outputs=outputs,name=\"modeltest\")\n",
    "model.summary()\n",
    "model.compile(optimizer=tf.keras.optimizers.Adam(learning_rate=1e-3), loss=\"categorical_crossentropy\",metrics=[\"Accuracy\"])"
   ]
  },
  {
   "cell_type": "code",
   "execution_count": null,
   "id": "95bf04c7-78a1-4c9a-b9ca-da485377df01",
   "metadata": {},
   "outputs": [],
   "source": [
    "# model = Sequential([\n",
    "#     Input(shape=(1,),dtype=tf.string),\n",
    "#     preprocessing_layer,\n",
    "#     Embedding(\n",
    "#             VOCAB_SIZE+1, 5, input_shape=[22], mask_zero=True\n",
    "#     ),\n",
    "#     #Lambda(lambda x:tf.reduce_mean(x,axis=1)),\n",
    "#     GRU(8),\n",
    "#     Dense(2,activation=\"softmax\")\n",
    "# ])\n",
    "# model.compile(optimizer=tf.keras.optimizers.Adam(learning_rate=1e-3), loss=\"categorical_crossentropy\",metrics=[\"Accuracy\"])"
   ]
  },
  {
   "cell_type": "code",
   "execution_count": null,
   "id": "5bd7c681-8d07-42dc-820a-7e58c7f878c0",
   "metadata": {},
   "outputs": [],
   "source": [
    "modelhistory = model.fit(\n",
    "    data.text[:6000],\n",
    "    target[:6000], \n",
    "    epochs=50,\n",
    "    batch_size=50, \n",
    "    validation_data=(data.text[6000:],target[6000:]),\n",
    "    # callbacks=[EarlyStopping(patience=10)]\n",
    ")"
   ]
  },
  {
   "cell_type": "code",
   "execution_count": null,
   "id": "bd3204c6-cfb7-4dde-b784-0741dae0c994",
   "metadata": {},
   "outputs": [],
   "source": [
    "pd.DataFrame(modelhistory.history)[[\"loss\",\"val_loss\"]].plot()\n",
    "pd.DataFrame(modelhistory.history)[[\"Accuracy\",\"val_Accuracy\"]].plot()"
   ]
  },
  {
   "cell_type": "code",
   "execution_count": null,
   "id": "ec81ab75-5761-45a2-b2f6-3bd01c5f68d8",
   "metadata": {},
   "outputs": [],
   "source": [
    "pd.DataFrame(modelhistory.history)[[\"loss\",\"val_loss\"]][:10].plot()"
   ]
  },
  {
   "cell_type": "code",
   "execution_count": null,
   "id": "82bffd80-97ad-49aa-bdd4-6e39e320559a",
   "metadata": {},
   "outputs": [],
   "source": [
    "model.predict(data.text[7000:7001])"
   ]
  },
  {
   "cell_type": "code",
   "execution_count": null,
   "id": "653f794b-e41b-4e63-86d2-2ff82fed5304",
   "metadata": {},
   "outputs": [],
   "source": [
    "data.text[7000:7001]"
   ]
  },
  {
   "cell_type": "code",
   "execution_count": null,
   "id": "44e63813-6a96-46d9-a97e-6d63e3668f47",
   "metadata": {},
   "outputs": [],
   "source": []
  }
 ],
 "metadata": {
  "environment": {
   "kernel": "python3",
   "name": "tf2-gpu.2-8.m102",
   "type": "gcloud",
   "uri": "gcr.io/deeplearning-platform-release/tf2-gpu.2-8:m102"
  },
  "kernelspec": {
   "display_name": "Python 3 (ipykernel)",
   "language": "python",
   "name": "python3"
  },
  "language_info": {
   "codemirror_mode": {
    "name": "ipython",
    "version": 3
   },
   "file_extension": ".py",
   "mimetype": "text/x-python",
   "name": "python",
   "nbconvert_exporter": "python",
   "pygments_lexer": "ipython3",
   "version": "3.7.12"
  }
 },
 "nbformat": 4,
 "nbformat_minor": 5
}
