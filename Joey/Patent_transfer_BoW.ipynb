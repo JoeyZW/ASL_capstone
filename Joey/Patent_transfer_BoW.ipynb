{
 "cells": [
  {
   "cell_type": "code",
   "execution_count": 27,
   "id": "9562c057-4db9-4dd2-9916-801dd4596388",
   "metadata": {},
   "outputs": [
    {
     "name": "stdout",
     "output_type": "stream",
     "text": [
      "2.11.0\n"
     ]
    }
   ],
   "source": [
    "import os\n",
    "import shutil\n",
    "\n",
    "import csv\n",
    "import pandas as pd\n",
    "import tensorflow as tf\n",
    "import numpy as np\n",
    "import tensorflow_hub as hub\n",
    "# import tensorflow_text as text\n",
    "import keras\n",
    "\n",
    "from keras import Input\n",
    "from keras.layers import TextVectorization\n",
    "from tensorflow.keras.callbacks import EarlyStopping, TensorBoard\n",
    "from tensorflow.keras.layers import (\n",
    "    GRU,\n",
    "    Conv1D,\n",
    "    Dense,\n",
    "    Embedding,\n",
    "    Flatten,\n",
    "    Lambda,\n",
    ")\n",
    "from tensorflow.keras.models import Sequential\n",
    "from tensorflow.keras.utils import to_categorical\n",
    "\n",
    "#confusion matrix\n",
    "from sklearn.metrics import confusion_matrix\n",
    "import matplotlib.pyplot as plt\n",
    "import seaborn as sn\n",
    "\n",
    "\n",
    "\n",
    "print(tf.__version__)"
   ]
  },
  {
   "cell_type": "code",
   "execution_count": 2,
   "id": "7d503f6e-4016-4dcb-aa32-4f138616f35b",
   "metadata": {},
   "outputs": [],
   "source": [
    "# #read data\n",
    "# url = 'https://drive.google.com/file/d/16iYEWb1xCiuR5_TM47RVZyzLFwD7gZnT/view?usp=share_link'\n",
    "# path = 'https://drive.google.com/uc?export=download&id='+url.split('/')[-2]\n",
    "# df = pd.read_csv(path)"
   ]
  },
  {
   "cell_type": "code",
   "execution_count": 3,
   "id": "6def4e3f-7bbb-4500-88d1-57c2a7060098",
   "metadata": {},
   "outputs": [],
   "source": [
    "# # # data.groupby('ipc_section').count()\n",
    "\n",
    "# dataSort = df.query('(ipc_section == \"A\")').sample(n=1250)\n",
    "# dataSort = pd.concat([dataSort,df.query('(ipc_section == \"B\")').sample(n=1250)])\n",
    "# dataSort = pd.concat([dataSort,df.query('(ipc_section == \"C\")').sample(n=1250)])\n",
    "# dataSort = pd.concat([dataSort,df.query('(ipc_section == \"D\")').sample(n=1250)])\n",
    "# dataSort = pd.concat([dataSort,df.query('(ipc_section == \"E\")').sample(n=1250)])\n",
    "# dataSort = pd.concat([dataSort,df.query('(ipc_section == \"F\")').sample(n=1250)])\n",
    "# dataSort = pd.concat([dataSort,df.query('(ipc_section == \"G\")').sample(n=1250)])\n",
    "# dataSort = pd.concat([dataSort,df.query('(ipc_section == \"H\")').sample(n=1250)])\n",
    "# #shuffle data\n",
    "# data = dataSort.sample(frac=1)"
   ]
  },
  {
   "cell_type": "code",
   "execution_count": 4,
   "id": "ffc9c54f-42a1-4e3c-8901-645875c88971",
   "metadata": {},
   "outputs": [],
   "source": [
    "data = pd.read_csv(\"../data/patent-10k_balanced.csv\")\n",
    "data = data.sample(frac=1)"
   ]
  },
  {
   "cell_type": "code",
   "execution_count": 5,
   "id": "f8baa4a3-4d7b-4a9b-8457-86fba1b363ab",
   "metadata": {},
   "outputs": [
    {
     "data": {
      "text/html": [
       "<div>\n",
       "<style scoped>\n",
       "    .dataframe tbody tr th:only-of-type {\n",
       "        vertical-align: middle;\n",
       "    }\n",
       "\n",
       "    .dataframe tbody tr th {\n",
       "        vertical-align: top;\n",
       "    }\n",
       "\n",
       "    .dataframe thead th {\n",
       "        text-align: right;\n",
       "    }\n",
       "</style>\n",
       "<table border=\"1\" class=\"dataframe\">\n",
       "  <thead>\n",
       "    <tr style=\"text-align: right;\">\n",
       "      <th></th>\n",
       "      <th>Unnamed: 0</th>\n",
       "      <th>application_number</th>\n",
       "      <th>kind_code</th>\n",
       "      <th>application_kind</th>\n",
       "      <th>family_id</th>\n",
       "      <th>language</th>\n",
       "      <th>title</th>\n",
       "      <th>abstract</th>\n",
       "      <th>ipc_code</th>\n",
       "      <th>ipc_class</th>\n",
       "      <th>ipc_code_sub_class</th>\n",
       "    </tr>\n",
       "    <tr>\n",
       "      <th>ipc_section</th>\n",
       "      <th></th>\n",
       "      <th></th>\n",
       "      <th></th>\n",
       "      <th></th>\n",
       "      <th></th>\n",
       "      <th></th>\n",
       "      <th></th>\n",
       "      <th></th>\n",
       "      <th></th>\n",
       "      <th></th>\n",
       "      <th></th>\n",
       "    </tr>\n",
       "  </thead>\n",
       "  <tbody>\n",
       "    <tr>\n",
       "      <th>A</th>\n",
       "      <td>1250</td>\n",
       "      <td>1250</td>\n",
       "      <td>1250</td>\n",
       "      <td>1250</td>\n",
       "      <td>1250</td>\n",
       "      <td>1250</td>\n",
       "      <td>1250</td>\n",
       "      <td>1250</td>\n",
       "      <td>1250</td>\n",
       "      <td>1250</td>\n",
       "      <td>1250</td>\n",
       "    </tr>\n",
       "    <tr>\n",
       "      <th>B</th>\n",
       "      <td>1250</td>\n",
       "      <td>1250</td>\n",
       "      <td>1250</td>\n",
       "      <td>1250</td>\n",
       "      <td>1250</td>\n",
       "      <td>1250</td>\n",
       "      <td>1250</td>\n",
       "      <td>1250</td>\n",
       "      <td>1250</td>\n",
       "      <td>1250</td>\n",
       "      <td>1250</td>\n",
       "    </tr>\n",
       "    <tr>\n",
       "      <th>C</th>\n",
       "      <td>1250</td>\n",
       "      <td>1250</td>\n",
       "      <td>1250</td>\n",
       "      <td>1250</td>\n",
       "      <td>1250</td>\n",
       "      <td>1250</td>\n",
       "      <td>1250</td>\n",
       "      <td>1250</td>\n",
       "      <td>1250</td>\n",
       "      <td>1250</td>\n",
       "      <td>1250</td>\n",
       "    </tr>\n",
       "    <tr>\n",
       "      <th>D</th>\n",
       "      <td>1250</td>\n",
       "      <td>1250</td>\n",
       "      <td>1250</td>\n",
       "      <td>1250</td>\n",
       "      <td>1250</td>\n",
       "      <td>1250</td>\n",
       "      <td>1250</td>\n",
       "      <td>1250</td>\n",
       "      <td>1250</td>\n",
       "      <td>1250</td>\n",
       "      <td>1250</td>\n",
       "    </tr>\n",
       "    <tr>\n",
       "      <th>E</th>\n",
       "      <td>1250</td>\n",
       "      <td>1250</td>\n",
       "      <td>1250</td>\n",
       "      <td>1250</td>\n",
       "      <td>1250</td>\n",
       "      <td>1250</td>\n",
       "      <td>1250</td>\n",
       "      <td>1250</td>\n",
       "      <td>1250</td>\n",
       "      <td>1250</td>\n",
       "      <td>1250</td>\n",
       "    </tr>\n",
       "    <tr>\n",
       "      <th>F</th>\n",
       "      <td>1250</td>\n",
       "      <td>1250</td>\n",
       "      <td>1250</td>\n",
       "      <td>1250</td>\n",
       "      <td>1250</td>\n",
       "      <td>1250</td>\n",
       "      <td>1250</td>\n",
       "      <td>1250</td>\n",
       "      <td>1250</td>\n",
       "      <td>1250</td>\n",
       "      <td>1250</td>\n",
       "    </tr>\n",
       "    <tr>\n",
       "      <th>G</th>\n",
       "      <td>1250</td>\n",
       "      <td>1250</td>\n",
       "      <td>1250</td>\n",
       "      <td>1250</td>\n",
       "      <td>1250</td>\n",
       "      <td>1250</td>\n",
       "      <td>1250</td>\n",
       "      <td>1250</td>\n",
       "      <td>1250</td>\n",
       "      <td>1250</td>\n",
       "      <td>1250</td>\n",
       "    </tr>\n",
       "    <tr>\n",
       "      <th>H</th>\n",
       "      <td>1250</td>\n",
       "      <td>1250</td>\n",
       "      <td>1250</td>\n",
       "      <td>1250</td>\n",
       "      <td>1250</td>\n",
       "      <td>1250</td>\n",
       "      <td>1250</td>\n",
       "      <td>1250</td>\n",
       "      <td>1250</td>\n",
       "      <td>1250</td>\n",
       "      <td>1250</td>\n",
       "    </tr>\n",
       "  </tbody>\n",
       "</table>\n",
       "</div>"
      ],
      "text/plain": [
       "             Unnamed: 0  application_number  kind_code  application_kind  \\\n",
       "ipc_section                                                                \n",
       "A                  1250                1250       1250              1250   \n",
       "B                  1250                1250       1250              1250   \n",
       "C                  1250                1250       1250              1250   \n",
       "D                  1250                1250       1250              1250   \n",
       "E                  1250                1250       1250              1250   \n",
       "F                  1250                1250       1250              1250   \n",
       "G                  1250                1250       1250              1250   \n",
       "H                  1250                1250       1250              1250   \n",
       "\n",
       "             family_id  language  title  abstract  ipc_code  ipc_class  \\\n",
       "ipc_section                                                              \n",
       "A                 1250      1250   1250      1250      1250       1250   \n",
       "B                 1250      1250   1250      1250      1250       1250   \n",
       "C                 1250      1250   1250      1250      1250       1250   \n",
       "D                 1250      1250   1250      1250      1250       1250   \n",
       "E                 1250      1250   1250      1250      1250       1250   \n",
       "F                 1250      1250   1250      1250      1250       1250   \n",
       "G                 1250      1250   1250      1250      1250       1250   \n",
       "H                 1250      1250   1250      1250      1250       1250   \n",
       "\n",
       "             ipc_code_sub_class  \n",
       "ipc_section                      \n",
       "A                          1250  \n",
       "B                          1250  \n",
       "C                          1250  \n",
       "D                          1250  \n",
       "E                          1250  \n",
       "F                          1250  \n",
       "G                          1250  \n",
       "H                          1250  "
      ]
     },
     "execution_count": 5,
     "metadata": {},
     "output_type": "execute_result"
    }
   ],
   "source": [
    "data.groupby('ipc_section').count()"
   ]
  },
  {
   "cell_type": "code",
   "execution_count": 6,
   "id": "2df50fd1-fc17-40f4-9ab9-3a07d5c562ff",
   "metadata": {},
   "outputs": [
    {
     "data": {
      "text/plain": [
       "10000"
      ]
     },
     "execution_count": 6,
     "metadata": {},
     "output_type": "execute_result"
    }
   ],
   "source": [
    "len(data)"
   ]
  },
  {
   "cell_type": "code",
   "execution_count": 7,
   "id": "962fb1be-1152-46d9-8cf2-fd24c100f9e1",
   "metadata": {},
   "outputs": [
    {
     "name": "stderr",
     "output_type": "stream",
     "text": [
      "2023-02-16 16:23:24.562118: I tensorflow/compiler/xla/stream_executor/cuda/cuda_gpu_executor.cc:981] successful NUMA node read from SysFS had negative value (-1), but there must be at least one NUMA node, so returning NUMA node zero\n",
      "2023-02-16 16:23:24.574949: I tensorflow/compiler/xla/stream_executor/cuda/cuda_gpu_executor.cc:981] successful NUMA node read from SysFS had negative value (-1), but there must be at least one NUMA node, so returning NUMA node zero\n",
      "2023-02-16 16:23:24.576769: I tensorflow/compiler/xla/stream_executor/cuda/cuda_gpu_executor.cc:981] successful NUMA node read from SysFS had negative value (-1), but there must be at least one NUMA node, so returning NUMA node zero\n",
      "2023-02-16 16:23:24.579374: I tensorflow/core/platform/cpu_feature_guard.cc:193] This TensorFlow binary is optimized with oneAPI Deep Neural Network Library (oneDNN) to use the following CPU instructions in performance-critical operations:  AVX2 FMA\n",
      "To enable them in other operations, rebuild TensorFlow with the appropriate compiler flags.\n",
      "2023-02-16 16:23:24.580543: I tensorflow/compiler/xla/stream_executor/cuda/cuda_gpu_executor.cc:981] successful NUMA node read from SysFS had negative value (-1), but there must be at least one NUMA node, so returning NUMA node zero\n",
      "2023-02-16 16:23:24.582331: I tensorflow/compiler/xla/stream_executor/cuda/cuda_gpu_executor.cc:981] successful NUMA node read from SysFS had negative value (-1), but there must be at least one NUMA node, so returning NUMA node zero\n",
      "2023-02-16 16:23:24.584057: I tensorflow/compiler/xla/stream_executor/cuda/cuda_gpu_executor.cc:981] successful NUMA node read from SysFS had negative value (-1), but there must be at least one NUMA node, so returning NUMA node zero\n",
      "2023-02-16 16:23:25.317885: I tensorflow/compiler/xla/stream_executor/cuda/cuda_gpu_executor.cc:981] successful NUMA node read from SysFS had negative value (-1), but there must be at least one NUMA node, so returning NUMA node zero\n",
      "2023-02-16 16:23:25.319793: I tensorflow/compiler/xla/stream_executor/cuda/cuda_gpu_executor.cc:981] successful NUMA node read from SysFS had negative value (-1), but there must be at least one NUMA node, so returning NUMA node zero\n",
      "2023-02-16 16:23:25.321464: I tensorflow/compiler/xla/stream_executor/cuda/cuda_gpu_executor.cc:981] successful NUMA node read from SysFS had negative value (-1), but there must be at least one NUMA node, so returning NUMA node zero\n",
      "2023-02-16 16:23:25.323031: I tensorflow/core/common_runtime/gpu/gpu_device.cc:1613] Created device /job:localhost/replica:0/task:0/device:GPU:0 with 13582 MB memory:  -> device: 0, name: Tesla T4, pci bus id: 0000:00:04.0, compute capability: 7.5\n"
     ]
    }
   ],
   "source": [
    "MAX_LEN = 512\n",
    "MAX_TOKENS = 100000\n",
    "\n",
    "preprocessing_layer = TextVectorization(\n",
    "    # output_sequence_length=MAX_LEN, \n",
    "    # max_tokens=MAX_TOKENS\n",
    ")\n",
    "preprocessing_layer.adapt(data.abstract)"
   ]
  },
  {
   "cell_type": "code",
   "execution_count": 8,
   "id": "c9da67fe-cc94-479a-acbf-f1ee6a6571d5",
   "metadata": {},
   "outputs": [
    {
     "data": {
      "text/plain": [
       "41703"
      ]
     },
     "execution_count": 8,
     "metadata": {},
     "output_type": "execute_result"
    }
   ],
   "source": [
    "VOCAB_SIZE = len(preprocessing_layer.get_vocabulary())\n",
    "VOCAB_SIZE"
   ]
  },
  {
   "cell_type": "code",
   "execution_count": 9,
   "id": "36e185f9-eb91-4685-9ab9-75bf945e2599",
   "metadata": {},
   "outputs": [
    {
     "data": {
      "text/plain": [
       "10000"
      ]
     },
     "execution_count": 9,
     "metadata": {},
     "output_type": "execute_result"
    }
   ],
   "source": [
    "#one hot encode target\n",
    "# classes = [[0,1,2,3,4,5,6,7][source] for source in dataSort.ipc_section]\n",
    "classes = [{\"A\":0,\"B\":1,\"C\":2,\"D\":3,\"E\":4,\"F\":5,\"G\":6,\"H\":7}[source] for source in data.ipc_section]\n",
    "target = to_categorical(classes)\n",
    "#print target\n",
    "# target[2002]\n",
    "len(target)"
   ]
  },
  {
   "cell_type": "code",
   "execution_count": 18,
   "id": "7e10f4d4-2d7b-49d5-b6fa-3c5a25a7ae98",
   "metadata": {},
   "outputs": [
    {
     "name": "stdout",
     "output_type": "stream",
     "text": [
      "Model: \"modeltest\"\n",
      "_________________________________________________________________\n",
      " Layer (type)                Output Shape              Param #   \n",
      "=================================================================\n",
      " InputString (InputLayer)    [(None, 1)]               0         \n",
      "                                                                 \n",
      " text_vectorization (TextVec  (None, None)             0         \n",
      " torization)                                                     \n",
      "                                                                 \n",
      " embedding_3 (Embedding)     (None, None, 512)         21352448  \n",
      "                                                                 \n",
      " lambda_3 (Lambda)           (None, 512)               0         \n",
      "                                                                 \n",
      " dense_3 (Dense)             (None, 8)                 4104      \n",
      "                                                                 \n",
      "=================================================================\n",
      "Total params: 21,356,552\n",
      "Trainable params: 21,356,552\n",
      "Non-trainable params: 0\n",
      "_________________________________________________________________\n"
     ]
    }
   ],
   "source": [
    "BATCHSIZE = 5\n",
    "\n",
    "inputs = Input(shape=(1,),dtype=tf.string,name=\"InputString\")\n",
    "x = preprocessing_layer(inputs)\n",
    "# x = Embedding(VOCAB_SIZE+1,512,embeddings_regularizer=tf.keras.regularizers.L2(0.001))(x)\n",
    "x = Embedding(VOCAB_SIZE+1,512)(x)\n",
    "x = Lambda(lambda x:tf.reduce_mean(x,axis=1))(x)\n",
    "# x = Dense(512,activation=\"relu\",kernel_regularizer=tf.keras.regularizers.L2(0.005))(inputs)\n",
    "# x = Dense(512,activation=\"relu\")(inputs)\n",
    "# x = tf.keras.layers.Dropout(0.2)(x)\n",
    "outputs = Dense(8,activation=\"softmax\")(x)\n",
    "\n",
    "model = keras.Model(inputs=inputs,outputs=outputs,name=\"modeltest\")\n",
    "model.summary()\n",
    "model.compile(optimizer=\"adam\", loss=\"categorical_crossentropy\",metrics=[\"Accuracy\"])"
   ]
  },
  {
   "cell_type": "code",
   "execution_count": 19,
   "id": "b6920fe9-fb83-4c69-9fea-a0dc9817c30f",
   "metadata": {},
   "outputs": [
    {
     "name": "stdout",
     "output_type": "stream",
     "text": [
      "Epoch 1/20\n",
      "1600/1600 [==============================] - 45s 27ms/step - loss: 1.6334 - Accuracy: 0.4256 - val_loss: 1.3016 - val_Accuracy: 0.5535\n",
      "Epoch 2/20\n",
      "1600/1600 [==============================] - 17s 10ms/step - loss: 0.9590 - Accuracy: 0.6970 - val_loss: 1.1594 - val_Accuracy: 0.6025\n",
      "Epoch 3/20\n",
      "1600/1600 [==============================] - 14s 9ms/step - loss: 0.5712 - Accuracy: 0.8431 - val_loss: 1.1863 - val_Accuracy: 0.5980\n",
      "Epoch 4/20\n",
      "1600/1600 [==============================] - 13s 8ms/step - loss: 0.3286 - Accuracy: 0.9224 - val_loss: 1.2709 - val_Accuracy: 0.6075\n",
      "Epoch 5/20\n",
      "1600/1600 [==============================] - 14s 9ms/step - loss: 0.1841 - Accuracy: 0.9660 - val_loss: 1.4233 - val_Accuracy: 0.5925\n",
      "Epoch 6/20\n",
      "1600/1600 [==============================] - 13s 8ms/step - loss: 0.1040 - Accuracy: 0.9835 - val_loss: 1.5680 - val_Accuracy: 0.5910\n",
      "Epoch 7/20\n",
      "1600/1600 [==============================] - 14s 8ms/step - loss: 0.0575 - Accuracy: 0.9942 - val_loss: 1.7693 - val_Accuracy: 0.5815\n",
      "Epoch 8/20\n",
      "1600/1600 [==============================] - 12s 8ms/step - loss: 0.0353 - Accuracy: 0.9962 - val_loss: 1.9651 - val_Accuracy: 0.5780\n",
      "Epoch 9/20\n",
      "1600/1600 [==============================] - 12s 8ms/step - loss: 0.0211 - Accuracy: 0.9976 - val_loss: 2.1764 - val_Accuracy: 0.5720\n",
      "Epoch 10/20\n",
      "1600/1600 [==============================] - 13s 8ms/step - loss: 0.0152 - Accuracy: 0.9985 - val_loss: 2.4492 - val_Accuracy: 0.5680\n",
      "Epoch 11/20\n",
      "1600/1600 [==============================] - 13s 8ms/step - loss: 0.0115 - Accuracy: 0.9984 - val_loss: 2.5978 - val_Accuracy: 0.5685\n",
      "Epoch 12/20\n",
      "1600/1600 [==============================] - 13s 8ms/step - loss: 0.0079 - Accuracy: 0.9989 - val_loss: 2.8172 - val_Accuracy: 0.5590\n",
      "Epoch 13/20\n",
      "1600/1600 [==============================] - 12s 8ms/step - loss: 0.0058 - Accuracy: 0.9992 - val_loss: 2.9273 - val_Accuracy: 0.5640\n",
      "Epoch 14/20\n",
      "1600/1600 [==============================] - 12s 8ms/step - loss: 0.0058 - Accuracy: 0.9991 - val_loss: 3.1190 - val_Accuracy: 0.5640\n",
      "Epoch 15/20\n",
      "1600/1600 [==============================] - 12s 8ms/step - loss: 0.0043 - Accuracy: 0.9990 - val_loss: 3.2837 - val_Accuracy: 0.5640\n",
      "Epoch 16/20\n",
      "1600/1600 [==============================] - 13s 8ms/step - loss: 0.0047 - Accuracy: 0.9991 - val_loss: 3.4363 - val_Accuracy: 0.5695\n",
      "Epoch 17/20\n",
      "1600/1600 [==============================] - 13s 8ms/step - loss: 0.0036 - Accuracy: 0.9989 - val_loss: 3.4819 - val_Accuracy: 0.5680\n",
      "Epoch 18/20\n",
      "1600/1600 [==============================] - 12s 8ms/step - loss: 0.0033 - Accuracy: 0.9992 - val_loss: 3.7709 - val_Accuracy: 0.5605\n",
      "Epoch 19/20\n",
      "1600/1600 [==============================] - 12s 7ms/step - loss: 0.0046 - Accuracy: 0.9989 - val_loss: 3.7353 - val_Accuracy: 0.5675\n",
      "Epoch 20/20\n",
      "1600/1600 [==============================] - 12s 8ms/step - loss: 0.0024 - Accuracy: 0.9995 - val_loss: 3.8411 - val_Accuracy: 0.5690\n"
     ]
    }
   ],
   "source": [
    "modelhistory = model.fit(\n",
    "    data.abstract,\n",
    "    target, \n",
    "    epochs=20,\n",
    "    batch_size=BATCHSIZE, \n",
    "    validation_split=0.2\n",
    "    # validation_data=(data.text[6000:],target[6000:]),\n",
    "    # callbacks=[EarlyStopping(patience=10)]\n",
    ")"
   ]
  },
  {
   "cell_type": "code",
   "execution_count": 20,
   "id": "88a8311d-8049-4276-912e-31489bcc3e34",
   "metadata": {},
   "outputs": [
    {
     "data": {
      "text/plain": [
       "<AxesSubplot:title={'center':'BS=5 | USE | 0.2 DO| 256 dense'}>"
      ]
     },
     "execution_count": 20,
     "metadata": {},
     "output_type": "execute_result"
    },
    {
     "data": {
      "image/png": "[encoded data removed]",
      "text/plain": [
       "<Figure size 640x480 with 1 Axes>"
      ]
     },
     "metadata": {},
     "output_type": "display_data"
    },
    {
     "data": {
      "image/png": "[encoded data removed]",
      "text/plain": [
       "<Figure size 640x480 with 1 Axes>"
      ]
     },
     "metadata": {},
     "output_type": "display_data"
    }
   ],
   "source": [
    "pd.DataFrame(modelhistory.history)[[\"loss\",\"val_loss\"]].plot(title=\"BS=\"+ str(BATCHSIZE) +\" | USE | 0.2 DO| 256 dense\")\n",
    "pd.DataFrame(modelhistory.history)[[\"Accuracy\",\"val_Accuracy\"]].plot(title=\"BS=\"+ str(BATCHSIZE) +\" | USE | 0.2 DO| 256 dense\")"
   ]
  },
  {
   "cell_type": "code",
   "execution_count": 21,
   "id": "6334a5e9-9603-4b8d-9bac-08b1373875f5",
   "metadata": {},
   "outputs": [],
   "source": [
    "yhat_probs = model.predict(data.abstract, verbose=0)\n",
    "yhat_classes = np.argmax(yhat_probs, axis=1)\n",
    "y_test_classes = np.argmax(target, axis=1)\n",
    "matrix = confusion_matrix(y_test_classes, yhat_classes, normalize=\"true\")\n",
    "df_cm = pd.DataFrame(matrix, index = [i for i in \"ABCDEFGH\"],\n",
    "                     columns = [i for i in \"ABCDEFGH\"])\n",
    "plt.figure(figsize = (10,10))\n",
    "sn.heatmap(df_cm, annot=True)\n",
    "plt.xlabel('Predictions', fontsize=18)\n",
    "plt.ylabel('Actuals', fontsize=18)\n",
    "plt.title('Confusion Matrix', fontsize=18)"
   ]
  },
  {
   "cell_type": "code",
   "execution_count": null,
   "id": "228a95d0-859f-4bb8-9ddd-f375e5847f4b",
   "metadata": {},
   "outputs": [],
   "source": []
  }
 ],
 "metadata": {
  "environment": {
   "kernel": "python3",
   "name": "tf2-gpu.2-8.m102",
   "type": "gcloud",
   "uri": "gcr.io/deeplearning-platform-release/tf2-gpu.2-8:m102"
  },
  "kernelspec": {
   "display_name": "Python 3 (ipykernel)",
   "language": "python",
   "name": "python3"
  },
  "language_info": {
   "codemirror_mode": {
    "name": "ipython",
    "version": 3
   },
   "file_extension": ".py",
   "mimetype": "text/x-python",
   "name": "python",
   "nbconvert_exporter": "python",
   "pygments_lexer": "ipython3",
   "version": "3.7.12"
  }
 },
 "nbformat": 4,
 "nbformat_minor": 5
}
